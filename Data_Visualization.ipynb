{
 "cells": [
  {
   "cell_type": "code",
   "execution_count": 1,
   "metadata": {},
   "outputs": [],
   "source": [
    "# Easier to make graphs and print computations here"
   ]
  },
  {
   "cell_type": "code",
   "execution_count": 38,
   "metadata": {},
   "outputs": [],
   "source": [
    "import numpy as np\n",
    "from numpy import genfromtxt\n",
    "import matplotlib.pyplot as plt\n",
    "from scipy import stats\n",
    "\n",
    "svm_ratings = genfromtxt('CS_475_Final_Project\\code\\datasets\\svm_new_ratings.csv', delimiter=',')\n",
    "original_ratings = genfromtxt('CS_475_Final_Project\\code\\datasets\\original_amazon_ratings.csv', delimiter=',')"
   ]
  },
  {
   "cell_type": "code",
   "execution_count": 39,
   "metadata": {},
   "outputs": [
    {
     "data": {
      "text/plain": [
       "Text(0, 0.5, 'Count')"
      ]
     },
     "execution_count": 39,
     "metadata": {},
     "output_type": "execute_result"
    },
    {
     "data": {
      "image/png": "[encoded data removed]",
      "text/plain": [
       "<Figure size 432x288 with 1 Axes>"
      ]
     },
     "metadata": {
      "needs_background": "light"
     },
     "output_type": "display_data"
    }
   ],
   "source": [
    "plt.hist(original_ratings, bins=[0,1,2,3,4,5,6])\n",
    "plt.title('Distribution of Original Amazon Ratings')\n",
    "plt.xlabel('Rating')\n",
    "plt.ylabel('Count')"
   ]
  },
  {
   "cell_type": "code",
   "execution_count": 40,
   "metadata": {},
   "outputs": [
    {
     "name": "stdout",
     "output_type": "stream",
     "text": [
      "5 Star Ratings: 19897\n",
      "4 Star Ratings: 5648\n",
      "3 Star Ratings: 1206\n",
      "2 Star Ratings: 616\n",
      "1 Star Ratings: 965\n"
     ]
    }
   ],
   "source": [
    "print('5 Star Ratings:', np.count_nonzero(original_ratings==5))\n",
    "print('4 Star Ratings:', np.count_nonzero(original_ratings==4))\n",
    "print('3 Star Ratings:', np.count_nonzero(original_ratings==3))\n",
    "print('2 Star Ratings:', np.count_nonzero(original_ratings==2))\n",
    "print('1 Star Ratings:', np.count_nonzero(original_ratings==1))"
   ]
  },
  {
   "cell_type": "code",
   "execution_count": 41,
   "metadata": {},
   "outputs": [
    {
     "data": {
      "text/plain": [
       "Text(0, 0.5, 'Count')"
      ]
     },
     "execution_count": 41,
     "metadata": {},
     "output_type": "execute_result"
    },
    {
     "data": {
      "image/png": "[encoded data removed]",
      "text/plain": [
       "<Figure size 432x288 with 1 Axes>"
      ]
     },
     "metadata": {
      "needs_background": "light"
     },
     "output_type": "display_data"
    }
   ],
   "source": [
    "plt.hist(svm_ratings, bins=[0,1,2,3,4,5,6])\n",
    "plt.title('Distribution of SVM Ratings')\n",
    "plt.xlabel('Rating')\n",
    "plt.ylabel('Count')"
   ]
  },
  {
   "cell_type": "code",
   "execution_count": 42,
   "metadata": {},
   "outputs": [
    {
     "name": "stdout",
     "output_type": "stream",
     "text": [
      "5 Star Ratings: 14893\n",
      "4 Star Ratings: 3266\n",
      "3 Star Ratings: 4723\n",
      "2 Star Ratings: 1686\n",
      "1 Star Ratings: 3764\n"
     ]
    }
   ],
   "source": [
    "print('5 Star Ratings:', np.count_nonzero(svm_ratings==5))\n",
    "print('4 Star Ratings:', np.count_nonzero(svm_ratings==4))\n",
    "print('3 Star Ratings:', np.count_nonzero(svm_ratings==3))\n",
    "print('2 Star Ratings:', np.count_nonzero(svm_ratings==2))\n",
    "print('1 Star Ratings:', np.count_nonzero(svm_ratings==1))"
   ]
  },
  {
   "cell_type": "code",
   "execution_count": 43,
   "metadata": {},
   "outputs": [
    {
     "name": "stdout",
     "output_type": "stream",
     "text": [
      "Mean Change: -0.6726669490328957\n",
      "Median Change: 0.0\n",
      "Standard Deviation of Change: 1.4872310919814045\n"
     ]
    }
   ],
   "source": [
    "# change metrics for all ratings\n",
    "change = svm_ratings - original_ratings # gives array of amount each rating changed by\n",
    "print('Mean Change:', np.mean(change)) # overall mean amout reviews were changed by\n",
    "print('Median Change:', np.median(change))\n",
    "print('Standard Deviation of Change:', np.std(change))"
   ]
  },
  {
   "cell_type": "code",
   "execution_count": 49,
   "metadata": {},
   "outputs": [],
   "source": [
    "# change metrics for each rating class (1-5)\n",
    "original_five_ratings = original_ratings[np.where(original_ratings==5)]\n",
    "svm_five_ratings = svm_ratings[np.where(original_ratings==5)]\n",
    "change_five_ratings = svm_five_ratings - original_five_ratings\n",
    "\n",
    "original_four_ratings = original_ratings[np.where(original_ratings==4)]\n",
    "svm_four_ratings = svm_ratings[np.where(original_ratings==4)]\n",
    "change_four_ratings = svm_four_ratings - original_four_ratings\n",
    "\n",
    "original_three_ratings = original_ratings[np.where(original_ratings==3)]\n",
    "svm_three_ratings = svm_ratings[np.where(original_ratings==3)]\n",
    "change_three_ratings = svm_three_ratings - original_three_ratings\n",
    "\n",
    "original_two_ratings = original_ratings[np.where(original_ratings==2)]\n",
    "svm_two_ratings = svm_ratings[np.where(original_ratings==2)]\n",
    "change_two_ratings = svm_two_ratings - original_two_ratings\n",
    "\n",
    "original_one_ratings = original_ratings[np.where(original_ratings==1)]\n",
    "svm_one_ratings = svm_ratings[np.where(original_ratings==1)]\n",
    "change_one_ratings = svm_one_ratings - original_one_ratings"
   ]
  },
  {
   "cell_type": "code",
   "execution_count": 54,
   "metadata": {},
   "outputs": [
    {
     "name": "stdout",
     "output_type": "stream",
     "text": [
      "5 Mean Change: -0.9912047042267679\n",
      "5 Median Change: 0.0\n",
      "5 Standard Deviation of Change: 1.3600363932503632\n",
      "\n",
      "4 Mean Change: -0.15846317280453256\n",
      "4 Median Change: 1.0\n",
      "4 Standard Deviation of Change: 1.4215295858245918\n",
      "\n",
      "3 Mean Change: 0.10945273631840796\n",
      "3 Median Change: 0.0\n",
      "3 Standard Deviation of Change: 1.591736600481295\n",
      "\n",
      "2 Mean Change: 0.6233766233766234\n",
      "2 Median Change: 0.0\n",
      "2 Standard Deviation of Change: 1.5100439577239888\n",
      "\n",
      "1 Mean Change: 1.0808290155440414\n",
      "1 Median Change: 1.0\n",
      "1 Standard Deviation of Change: 1.3419092950928329\n"
     ]
    }
   ],
   "source": [
    "# find stats for each rating class\n",
    "print('5 Mean Change:', np.mean(change_five_ratings))\n",
    "print('5 Median Change:', np.median(change_five_ratings))\n",
    "print('5 Standard Deviation of Change:', np.std(change_five_ratings))\n",
    "print('')\n",
    "print('4 Mean Change:', np.mean(change_four_ratings))\n",
    "print('4 Median Change:', np.median(change_four_ratings))\n",
    "print('4 Standard Deviation of Change:', np.std(change_four_ratings))\n",
    "print('')\n",
    "print('3 Mean Change:', np.mean(change_three_ratings))\n",
    "print('3 Median Change:', np.median(change_three_ratings))\n",
    "print('3 Standard Deviation of Change:', np.std(change_three_ratings))\n",
    "print('')\n",
    "print('2 Mean Change:', np.mean(change_two_ratings))\n",
    "print('2 Median Change:', np.median(change_two_ratings))\n",
    "print('2 Standard Deviation of Change:', np.std(change_two_ratings))\n",
    "print('')\n",
    "print('1 Mean Change:', np.mean(change_one_ratings))\n",
    "print('1 Median Change:', np.median(change_one_ratings))\n",
    "print('1 Standard Deviation of Change:', np.std(change_one_ratings))"
   ]
  },
  {
   "cell_type": "code",
   "execution_count": 73,
   "metadata": {},
   "outputs": [
    {
     "name": "stdout",
     "output_type": "stream",
     "text": [
      "Interpreted as Given Rating was X, Probability it was Inc/Dec/Unc is ...\n",
      "\n",
      "Number of Decreased 5 Star Ratings: 8500 = 42.72000804141328 %\n",
      "Numer of Unchanged 5 Star Ratings: 11397 = 57.27999195858672 %\n",
      "\n",
      "Number of Increased 4 Star Ratings: 2882 = 51.02691218130312 %\n",
      "Number of Decreased 4 Star Ratings: 2033 = 35.99504249291785 %\n",
      "Numer of Unchanged 4 Star Ratings: 733 = 12.978045325779036 %\n",
      "\n",
      "Number of Increased 3 Star Ratings: 518 = 42.95190713101161 %\n",
      "Number of Decreased 3 Star Ratings: 443 = 36.73300165837479 %\n",
      "Numer of Unchanged 3 Star Ratings: 245 = 20.3150912106136 %\n",
      "\n",
      "Number of Increased 2 Star Ratings: 283 = 45.94155844155844 %\n",
      "Number of Decreased 2 Star Ratings: 201 = 32.62987012987013 %\n",
      "Numer of Unchanged 2 Star Ratings: 132 = 21.428571428571427 %\n",
      "\n",
      "Number of Increased 1 Star Ratings: 490 = 50.77720207253886 %\n",
      "Numer of Unchanged 1 Star Ratings: 475 = 49.22279792746114 %\n"
     ]
    }
   ],
   "source": [
    "# find ratio of up to down for each rating class\n",
    "print('Interpreted as Given Rating was X, Probability it was Inc/Dec/Unc is ...')\n",
    "print('')\n",
    "print('Number of Decreased 5 Star Ratings:', len(np.where(change_five_ratings<0)[0]), '=', (len(np.where(change_five_ratings<0)[0])/len(change_five_ratings))*100, '%')\n",
    "print('Numer of Unchanged 5 Star Ratings:', len(np.where(change_five_ratings==0)[0]), '=',(len(np.where(change_five_ratings==0)[0])/len(change_five_ratings))*100, '%')# no > 0 class here as 5 ratings cant go up\n",
    "print('')\n",
    "print('Number of Increased 4 Star Ratings:', len(np.where(change_four_ratings>0)[0]), '=',(len(np.where(change_four_ratings>0)[0])/len(change_four_ratings))*100, '%')\n",
    "print('Number of Decreased 4 Star Ratings:', len(np.where(change_four_ratings<0)[0]), '=',(len(np.where(change_four_ratings<0)[0])/len(change_four_ratings))*100, '%')\n",
    "print('Numer of Unchanged 4 Star Ratings:', len(np.where(change_four_ratings==0)[0]), '=',(len(np.where(change_four_ratings==0)[0])/len(change_four_ratings))*100, '%')\n",
    "print('')\n",
    "print('Number of Increased 3 Star Ratings:', len(np.where(change_three_ratings>0)[0]), '=',(len(np.where(change_three_ratings>0)[0])/len(change_three_ratings))*100, '%')\n",
    "print('Number of Decreased 3 Star Ratings:', len(np.where(change_three_ratings<0)[0]), '=',(len(np.where(change_three_ratings<0)[0])/len(change_three_ratings))*100, '%')\n",
    "print('Numer of Unchanged 3 Star Ratings:', len(np.where(change_three_ratings==0)[0]), '=',(len(np.where(change_three_ratings==0)[0])/len(change_three_ratings))*100, '%')\n",
    "print('')\n",
    "print('Number of Increased 2 Star Ratings:', len(np.where(change_two_ratings>0)[0]), '=',(len(np.where(change_two_ratings>0)[0])/len(change_two_ratings))*100, '%')\n",
    "print('Number of Decreased 2 Star Ratings:', len(np.where(change_two_ratings<0)[0]), '=',(len(np.where(change_two_ratings<0)[0])/len(change_two_ratings))*100, '%')\n",
    "print('Numer of Unchanged 2 Star Ratings:', len(np.where(change_two_ratings==0)[0]), '=',(len(np.where(change_two_ratings==0)[0])/len(change_two_ratings))*100, '%')\n",
    "print('')\n",
    "print('Number of Increased 1 Star Ratings:', len(np.where(change_one_ratings>0)[0]),'=', (len(np.where(change_one_ratings>0)[0])/len(change_one_ratings))*100, '%')\n",
    "print('Numer of Unchanged 1 Star Ratings:', len(np.where(change_one_ratings==0)[0]),'=', (len(np.where(change_one_ratings==0)[0])/len(change_one_ratings))*100, '%')"
   ]
  },
  {
   "cell_type": "code",
   "execution_count": null,
   "metadata": {},
   "outputs": [],
   "source": []
  }
 ],
 "metadata": {
  "kernelspec": {
   "display_name": "Python 3",
   "language": "python",
   "name": "python3"
  },
  "language_info": {
   "codemirror_mode": {
    "name": "ipython",
    "version": 3
   },
   "file_extension": ".py",
   "mimetype": "text/x-python",
   "name": "python",
   "nbconvert_exporter": "python",
   "pygments_lexer": "ipython3",
   "version": "3.7.6"
  }
 },
 "nbformat": 4,
 "nbformat_minor": 4
}

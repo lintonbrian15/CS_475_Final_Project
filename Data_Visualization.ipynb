{
 "cells": [
  {
   "cell_type": "code",
   "execution_count": 1,
   "metadata": {},
   "outputs": [],
   "source": [
    "# Easier to make graphs and print computations here"
   ]
  },
  {
   "cell_type": "code",
   "execution_count": 2,
   "metadata": {},
   "outputs": [],
   "source": [
    "import numpy as np\n",
    "from numpy import genfromtxt\n",
    "import matplotlib.pyplot as plt\n",
    "from scipy import stats\n",
    "\n",
    "svm_ratings = genfromtxt('CS_475_Final_Project\\code\\datasets\\svm_new_ratings.csv', delimiter=',')\n",
    "original_ratings = genfromtxt('CS_475_Final_Project\\code\\datasets\\original_amazon_ratings.csv', delimiter=',')\n",
    "product_categories = genfromtxt('CS_475_Final_Project\\code\\datasets\\product_categories.csv', delimiter='|', dtype=str)"
   ]
  },
  {
   "cell_type": "code",
   "execution_count": 3,
   "metadata": {},
   "outputs": [
    {
     "data": {
      "text/plain": [
       "Text(0, 0.5, 'Count')"
      ]
     },
     "execution_count": 3,
     "metadata": {},
     "output_type": "execute_result"
    },
    {
     "data": {
      "image/png": "[encoded data removed]",
      "text/plain": [
       "<Figure size 432x288 with 1 Axes>"
      ]
     },
     "metadata": {
      "needs_background": "light"
     },
     "output_type": "display_data"
    }
   ],
   "source": [
    "plt.hist(original_ratings, bins=[0,1,2,3,4,5,6])\n",
    "plt.title('Distribution of Original Amazon Ratings')\n",
    "plt.xlabel('Rating')\n",
    "plt.ylabel('Count')"
   ]
  },
  {
   "cell_type": "code",
   "execution_count": 4,
   "metadata": {},
   "outputs": [
    {
     "name": "stdout",
     "output_type": "stream",
     "text": [
      "5 Star Ratings: 19897\n",
      "4 Star Ratings: 5648\n",
      "3 Star Ratings: 1206\n",
      "2 Star Ratings: 616\n",
      "1 Star Ratings: 965\n"
     ]
    }
   ],
   "source": [
    "print('5 Star Ratings:', np.count_nonzero(original_ratings==5))\n",
    "print('4 Star Ratings:', np.count_nonzero(original_ratings==4))\n",
    "print('3 Star Ratings:', np.count_nonzero(original_ratings==3))\n",
    "print('2 Star Ratings:', np.count_nonzero(original_ratings==2))\n",
    "print('1 Star Ratings:', np.count_nonzero(original_ratings==1))"
   ]
  },
  {
   "cell_type": "code",
   "execution_count": null,
   "metadata": {},
   "outputs": [],
   "source": [
    "# SVM Rating Investigation"
   ]
  },
  {
   "cell_type": "code",
   "execution_count": 5,
   "metadata": {},
   "outputs": [
    {
     "data": {
      "text/plain": [
       "Text(0, 0.5, 'Count')"
      ]
     },
     "execution_count": 5,
     "metadata": {},
     "output_type": "execute_result"
    },
    {
     "data": {
      "image/png": "[encoded data removed]",
      "text/plain": [
       "<Figure size 432x288 with 1 Axes>"
      ]
     },
     "metadata": {
      "needs_background": "light"
     },
     "output_type": "display_data"
    }
   ],
   "source": [
    "plt.hist(svm_ratings, bins=[0,1,2,3,4,5,6])\n",
    "plt.title('Distribution of SVM Ratings')\n",
    "plt.xlabel('Rating')\n",
    "plt.ylabel('Count')"
   ]
  },
  {
   "cell_type": "code",
   "execution_count": 6,
   "metadata": {},
   "outputs": [
    {
     "name": "stdout",
     "output_type": "stream",
     "text": [
      "5 Star Ratings: 14893\n",
      "4 Star Ratings: 3266\n",
      "3 Star Ratings: 4723\n",
      "2 Star Ratings: 1686\n",
      "1 Star Ratings: 3764\n"
     ]
    }
   ],
   "source": [
    "print('5 Star Ratings:', np.count_nonzero(svm_ratings==5))\n",
    "print('4 Star Ratings:', np.count_nonzero(svm_ratings==4))\n",
    "print('3 Star Ratings:', np.count_nonzero(svm_ratings==3))\n",
    "print('2 Star Ratings:', np.count_nonzero(svm_ratings==2))\n",
    "print('1 Star Ratings:', np.count_nonzero(svm_ratings==1))"
   ]
  },
  {
   "cell_type": "code",
   "execution_count": 7,
   "metadata": {},
   "outputs": [
    {
     "name": "stdout",
     "output_type": "stream",
     "text": [
      "Mean Change: -0.6726669490328957\n",
      "Median Change: 0.0\n",
      "Standard Deviation of Change: 1.4872310919814045\n"
     ]
    }
   ],
   "source": [
    "# change metrics for all ratings\n",
    "change = svm_ratings - original_ratings # gives array of amount each rating changed by\n",
    "print('Mean Change:', np.mean(change)) # overall mean amout reviews were changed by\n",
    "print('Median Change:', np.median(change))\n",
    "print('Standard Deviation of Change:', np.std(change))"
   ]
  },
  {
   "cell_type": "code",
   "execution_count": 8,
   "metadata": {},
   "outputs": [],
   "source": [
    "# change metrics for each rating class (1-5)\n",
    "original_five_ratings = original_ratings[np.where(original_ratings==5)]\n",
    "svm_five_ratings = svm_ratings[np.where(original_ratings==5)]\n",
    "change_five_ratings = svm_five_ratings - original_five_ratings\n",
    "\n",
    "original_four_ratings = original_ratings[np.where(original_ratings==4)]\n",
    "svm_four_ratings = svm_ratings[np.where(original_ratings==4)]\n",
    "change_four_ratings = svm_four_ratings - original_four_ratings\n",
    "\n",
    "original_three_ratings = original_ratings[np.where(original_ratings==3)]\n",
    "svm_three_ratings = svm_ratings[np.where(original_ratings==3)]\n",
    "change_three_ratings = svm_three_ratings - original_three_ratings\n",
    "\n",
    "original_two_ratings = original_ratings[np.where(original_ratings==2)]\n",
    "svm_two_ratings = svm_ratings[np.where(original_ratings==2)]\n",
    "change_two_ratings = svm_two_ratings - original_two_ratings\n",
    "\n",
    "original_one_ratings = original_ratings[np.where(original_ratings==1)]\n",
    "svm_one_ratings = svm_ratings[np.where(original_ratings==1)]\n",
    "change_one_ratings = svm_one_ratings - original_one_ratings"
   ]
  },
  {
   "cell_type": "code",
   "execution_count": 9,
   "metadata": {},
   "outputs": [
    {
     "name": "stdout",
     "output_type": "stream",
     "text": [
      "5 Mean Change: -0.9912047042267679\n",
      "5 Median Change: 0.0\n",
      "5 Standard Deviation of Change: 1.3600363932503632\n",
      "\n",
      "4 Mean Change: -0.15846317280453256\n",
      "4 Median Change: 1.0\n",
      "4 Standard Deviation of Change: 1.4215295858245918\n",
      "\n",
      "3 Mean Change: 0.10945273631840796\n",
      "3 Median Change: 0.0\n",
      "3 Standard Deviation of Change: 1.591736600481295\n",
      "\n",
      "2 Mean Change: 0.6233766233766234\n",
      "2 Median Change: 0.0\n",
      "2 Standard Deviation of Change: 1.5100439577239888\n",
      "\n",
      "1 Mean Change: 1.0808290155440414\n",
      "1 Median Change: 1.0\n",
      "1 Standard Deviation of Change: 1.3419092950928329\n"
     ]
    }
   ],
   "source": [
    "# find stats for each rating class\n",
    "print('5 Mean Change:', np.mean(change_five_ratings))\n",
    "print('5 Median Change:', np.median(change_five_ratings))\n",
    "print('5 Standard Deviation of Change:', np.std(change_five_ratings))\n",
    "print('')\n",
    "print('4 Mean Change:', np.mean(change_four_ratings))\n",
    "print('4 Median Change:', np.median(change_four_ratings))\n",
    "print('4 Standard Deviation of Change:', np.std(change_four_ratings))\n",
    "print('')\n",
    "print('3 Mean Change:', np.mean(change_three_ratings))\n",
    "print('3 Median Change:', np.median(change_three_ratings))\n",
    "print('3 Standard Deviation of Change:', np.std(change_three_ratings))\n",
    "print('')\n",
    "print('2 Mean Change:', np.mean(change_two_ratings))\n",
    "print('2 Median Change:', np.median(change_two_ratings))\n",
    "print('2 Standard Deviation of Change:', np.std(change_two_ratings))\n",
    "print('')\n",
    "print('1 Mean Change:', np.mean(change_one_ratings))\n",
    "print('1 Median Change:', np.median(change_one_ratings))\n",
    "print('1 Standard Deviation of Change:', np.std(change_one_ratings))"
   ]
  },
  {
   "cell_type": "code",
   "execution_count": 10,
   "metadata": {},
   "outputs": [
    {
     "name": "stdout",
     "output_type": "stream",
     "text": [
      "Interpreted as: Given Rating was X, Probability it was Inc/Dec/Unc is ...\n",
      "\n",
      "Number of Decreased 5 Star Ratings: 8500 = 42.72000804141328 %\n",
      "Number of Unchanged 5 Star Ratings: 11397 = 57.27999195858672 %\n",
      "\n",
      "Number of Increased 4 Star Ratings: 2882 = 51.02691218130312 %\n",
      "Number of Decreased 4 Star Ratings: 2033 = 35.99504249291785 %\n",
      "Number of Unchanged 4 Star Ratings: 733 = 12.978045325779036 %\n",
      "\n",
      "Number of Increased 3 Star Ratings: 518 = 42.95190713101161 %\n",
      "Number of Decreased 3 Star Ratings: 443 = 36.73300165837479 %\n",
      "Number of Unchanged 3 Star Ratings: 245 = 20.3150912106136 %\n",
      "\n",
      "Number of Increased 2 Star Ratings: 283 = 45.94155844155844 %\n",
      "Number of Decreased 2 Star Ratings: 201 = 32.62987012987013 %\n",
      "Number of Unchanged 2 Star Ratings: 132 = 21.428571428571427 %\n",
      "\n",
      "Number of Increased 1 Star Ratings: 490 = 50.77720207253886 %\n",
      "Number of Unchanged 1 Star Ratings: 475 = 49.22279792746114 %\n"
     ]
    }
   ],
   "source": [
    "# find ratio of up to down for each rating class\n",
    "print('Interpreted as: Given Rating was X, Probability it was Inc/Dec/Unc is ...')\n",
    "print('')\n",
    "print('Number of Decreased 5 Star Ratings:', len(np.where(change_five_ratings<0)[0]), '=', (len(np.where(change_five_ratings<0)[0])/len(change_five_ratings))*100, '%')\n",
    "print('Number of Unchanged 5 Star Ratings:', len(np.where(change_five_ratings==0)[0]), '=',(len(np.where(change_five_ratings==0)[0])/len(change_five_ratings))*100, '%')# no > 0 class here as 5 ratings cant go up\n",
    "print('')\n",
    "print('Number of Increased 4 Star Ratings:', len(np.where(change_four_ratings>0)[0]), '=',(len(np.where(change_four_ratings>0)[0])/len(change_four_ratings))*100, '%')\n",
    "print('Number of Decreased 4 Star Ratings:', len(np.where(change_four_ratings<0)[0]), '=',(len(np.where(change_four_ratings<0)[0])/len(change_four_ratings))*100, '%')\n",
    "print('Number of Unchanged 4 Star Ratings:', len(np.where(change_four_ratings==0)[0]), '=',(len(np.where(change_four_ratings==0)[0])/len(change_four_ratings))*100, '%')\n",
    "print('')\n",
    "print('Number of Increased 3 Star Ratings:', len(np.where(change_three_ratings>0)[0]), '=',(len(np.where(change_three_ratings>0)[0])/len(change_three_ratings))*100, '%')\n",
    "print('Number of Decreased 3 Star Ratings:', len(np.where(change_three_ratings<0)[0]), '=',(len(np.where(change_three_ratings<0)[0])/len(change_three_ratings))*100, '%')\n",
    "print('Number of Unchanged 3 Star Ratings:', len(np.where(change_three_ratings==0)[0]), '=',(len(np.where(change_three_ratings==0)[0])/len(change_three_ratings))*100, '%')\n",
    "print('')\n",
    "print('Number of Increased 2 Star Ratings:', len(np.where(change_two_ratings>0)[0]), '=',(len(np.where(change_two_ratings>0)[0])/len(change_two_ratings))*100, '%')\n",
    "print('Number of Decreased 2 Star Ratings:', len(np.where(change_two_ratings<0)[0]), '=',(len(np.where(change_two_ratings<0)[0])/len(change_two_ratings))*100, '%')\n",
    "print('Number of Unchanged 2 Star Ratings:', len(np.where(change_two_ratings==0)[0]), '=',(len(np.where(change_two_ratings==0)[0])/len(change_two_ratings))*100, '%')\n",
    "print('')\n",
    "print('Number of Increased 1 Star Ratings:', len(np.where(change_one_ratings>0)[0]),'=', (len(np.where(change_one_ratings>0)[0])/len(change_one_ratings))*100, '%')\n",
    "print('Number of Unchanged 1 Star Ratings:', len(np.where(change_one_ratings==0)[0]),'=', (len(np.where(change_one_ratings==0)[0])/len(change_one_ratings))*100, '%')"
   ]
  },
  {
   "cell_type": "code",
   "execution_count": 11,
   "metadata": {},
   "outputs": [
    {
     "name": "stdout",
     "output_type": "stream",
     "text": [
      "['Animals & Pet Supplies' 'Electronics' 'Health & Beauty' 'Home & Garden'\n",
      " 'Office Supplies' 'Toys & Games']\n",
      "Health Mean Change: -0.7552812525888493\n",
      "Health Median Change: 0.0\n",
      "Health Standard Deviation of Change: 1.6402762693401296\n",
      "\n",
      "Animal Mean Change: -1.0\n",
      "Animal Median Change: -0.5\n",
      "Animal Standard Deviation of Change: 1.1547005383792515\n",
      "\n",
      "Electronic Mean Change: -0.6153574954167255\n",
      "Electronic Median Change: 0.0\n",
      "Electronic Standard Deviation of Change: 1.3589561250935822\n",
      "\n",
      "Home Mean Change: -3.0\n",
      "Home Median Change: -3.0\n",
      "Home Standard Deviation of Change: 0.0\n",
      "\n",
      "Office Mean Change: -0.49873417721518987\n",
      "Office Median Change: 0.0\n",
      "Office Standard Deviation of Change: 1.2992201819695464\n",
      "\n",
      "Toy Mean Change: -0.5996420047732697\n",
      "Toy Median Change: 0.0\n",
      "Toy Standard Deviation of Change: 1.3736264098524718\n"
     ]
    }
   ],
   "source": [
    "# Look at Rating Change Based on Product Type\n",
    "print(np.unique(product_categories))\n",
    "health_indices = np.where(product_categories=='Health & Beauty')\n",
    "animal_indices = np.where(product_categories=='Animals & Pet Supplies')\n",
    "electronics_indices = np.where(product_categories=='Electronics')\n",
    "home_indices = np.where(product_categories=='Home & Garden')\n",
    "office_indices = np.where(product_categories=='Office Supplies')\n",
    "toy_indices = np.where(product_categories=='Toys & Games')\n",
    "\n",
    "health_changes = change[health_indices]\n",
    "animals_changes = change[animal_indices]\n",
    "electronic_changes = change[electronics_indices]\n",
    "home_changes = change[home_indices]\n",
    "office_changes = change[office_indices]\n",
    "toy_changes = change[toy_indices]\n",
    "\n",
    "print('Health Mean Change:', np.mean(health_changes)) # overall mean amout reviews were changed by\n",
    "print('Health Median Change:', np.median(health_changes))\n",
    "print('Health Standard Deviation of Change:', np.std(health_changes))\n",
    "print('')\n",
    "print('Animal Mean Change:', np.mean(animals_changes)) # overall mean amout reviews were changed by\n",
    "print('Animal Median Change:', np.median(animals_changes))\n",
    "print('Animal Standard Deviation of Change:', np.std(animals_changes))\n",
    "print('')\n",
    "print('Electronic Mean Change:', np.mean(electronic_changes)) # overall mean amout reviews were changed by\n",
    "print('Electronic Median Change:', np.median(electronic_changes))\n",
    "print('Electronic Standard Deviation of Change:', np.std(electronic_changes))\n",
    "print('')\n",
    "print('Home Mean Change:', np.mean(home_changes)) # overall mean amout reviews were changed by\n",
    "print('Home Median Change:', np.median(home_changes))\n",
    "print('Home Standard Deviation of Change:', np.std(home_changes))\n",
    "print('')\n",
    "print('Office Mean Change:', np.mean(office_changes)) # overall mean amout reviews were changed by\n",
    "print('Office Median Change:', np.median(office_changes))\n",
    "print('Office Standard Deviation of Change:', np.std(office_changes))\n",
    "print('')\n",
    "print('Toy Mean Change:', np.mean(toy_changes)) # overall mean amout reviews were changed by\n",
    "print('Toy Median Change:', np.median(toy_changes))\n",
    "print('Toy Standard Deviation of Change:', np.std(toy_changes))"
   ]
  },
  {
   "cell_type": "code",
   "execution_count": 12,
   "metadata": {},
   "outputs": [
    {
     "name": "stdout",
     "output_type": "stream",
     "text": [
      "Interpreted as: Given Product Category was X, Probability it was Inc/Dec/Unc is ...\n",
      "\n",
      "Number of Increased Health Ratings: 1554 = 12.873829840112666 %\n",
      "Number of Decreased Health Ratings: 4624 = 38.30668544445365 %\n",
      "Number of Unchanged Health Ratings: 5893 = 48.81948471543369 %\n",
      "\n",
      "Number of Increased Animal Ratings: 0 = 0.0 %\n",
      "Number of Decreased Animal Ratings: 3 = 50.0 %\n",
      "Number of Unchanged Animal Ratings: 3 = 50.0 %\n",
      "\n",
      "Number of Increased Electronic Ratings: 2276 = 16.048512198561557 %\n",
      "Number of Decreased Electronic Ratings: 5724 = 40.36102101255112 %\n",
      "Number of Unchanged Electronic Ratings: 6182 = 43.59046678888732 %\n",
      "\n",
      "Number of Increased Home Ratings: 0 = 0.0 %\n",
      "Number of Decreased Home Ratings: 2 = 100.0 %\n",
      "Number of Unchanged Home Ratings: 0 = 0.0 %\n",
      "\n",
      "Number of Increased Office Ratings: 71 = 17.974683544303797 %\n",
      "Number of Decreased Office Ratings: 154 = 38.9873417721519 %\n",
      "Number of Unchanged Office Ratings: 170 = 43.037974683544306 %\n",
      "\n",
      "Number of Increased Toy Ratings: 272 = 16.2291169451074 %\n",
      "Number of Decreased Toy Ratings: 670 = 39.97613365155131 %\n",
      "Number of Unchanged Toy Ratings: 734 = 43.794749403341285 %\n"
     ]
    }
   ],
   "source": [
    "# change likelihood given product category\n",
    "print('Interpreted as: Given Product Category was X, Probability it was Inc/Dec/Unc is ...')\n",
    "print('')\n",
    "print('Number of Increased Health Ratings:', len(np.where(health_changes>0)[0]), '=',(len(np.where(health_changes>0)[0])/len(health_changes))*100, '%')\n",
    "print('Number of Decreased Health Ratings:', len(np.where(health_changes<0)[0]), '=',(len(np.where(health_changes<0)[0])/len(health_changes))*100, '%')\n",
    "print('Number of Unchanged Health Ratings:', len(np.where(health_changes==0)[0]), '=',(len(np.where(health_changes==0)[0])/len(health_changes))*100, '%')\n",
    "print('')\n",
    "print('Number of Increased Animal Ratings:', len(np.where(animals_changes>0)[0]), '=',(len(np.where(animals_changes>0)[0])/len(animals_changes))*100, '%')\n",
    "print('Number of Decreased Animal Ratings:', len(np.where(animals_changes<0)[0]), '=',(len(np.where(animals_changes<0)[0])/len(animals_changes))*100, '%')\n",
    "print('Number of Unchanged Animal Ratings:', len(np.where(animals_changes==0)[0]), '=',(len(np.where(animals_changes==0)[0])/len(animals_changes))*100, '%')\n",
    "print('')\n",
    "print('Number of Increased Electronic Ratings:', len(np.where(electronic_changes>0)[0]), '=',(len(np.where(electronic_changes>0)[0])/len(electronic_changes))*100, '%')\n",
    "print('Number of Decreased Electronic Ratings:', len(np.where(electronic_changes<0)[0]), '=',(len(np.where(electronic_changes<0)[0])/len(electronic_changes))*100, '%')\n",
    "print('Number of Unchanged Electronic Ratings:', len(np.where(electronic_changes==0)[0]), '=',(len(np.where(electronic_changes==0)[0])/len(electronic_changes))*100, '%')\n",
    "print('')\n",
    "print('Number of Increased Home Ratings:', len(np.where(home_changes>0)[0]), '=',(len(np.where(home_changes>0)[0])/len(home_changes))*100, '%')\n",
    "print('Number of Decreased Home Ratings:', len(np.where(home_changes<0)[0]), '=',(len(np.where(home_changes<0)[0])/len(home_changes))*100, '%')\n",
    "print('Number of Unchanged Home Ratings:', len(np.where(home_changes==0)[0]), '=',(len(np.where(home_changes==0)[0])/len(home_changes))*100, '%')\n",
    "print('')\n",
    "print('Number of Increased Office Ratings:', len(np.where(office_changes>0)[0]), '=',(len(np.where(office_changes>0)[0])/len(office_changes))*100, '%')\n",
    "print('Number of Decreased Office Ratings:', len(np.where(office_changes<0)[0]), '=',(len(np.where(office_changes<0)[0])/len(office_changes))*100, '%')\n",
    "print('Number of Unchanged Office Ratings:', len(np.where(office_changes==0)[0]), '=',(len(np.where(office_changes==0)[0])/len(office_changes))*100, '%')\n",
    "print('')\n",
    "print('Number of Increased Toy Ratings:', len(np.where(toy_changes>0)[0]), '=',(len(np.where(toy_changes>0)[0])/len(toy_changes))*100, '%')\n",
    "print('Number of Decreased Toy Ratings:', len(np.where(toy_changes<0)[0]), '=',(len(np.where(toy_changes<0)[0])/len(toy_changes))*100, '%')\n",
    "print('Number of Unchanged Toy Ratings:', len(np.where(toy_changes==0)[0]), '=',(len(np.where(toy_changes==0)[0])/len(toy_changes))*100, '%')"
   ]
  },
  {
   "cell_type": "code",
   "execution_count": 13,
   "metadata": {},
   "outputs": [],
   "source": [
    "# Random Forest Rating Investigation"
   ]
  },
  {
   "cell_type": "code",
   "execution_count": 15,
   "metadata": {},
   "outputs": [],
   "source": [
    "rf_ratings = genfromtxt(r'CS_475_Final_Project\\code\\datasets\\rf_new_ratings.csv', delimiter=',')"
   ]
  },
  {
   "cell_type": "code",
   "execution_count": 18,
   "metadata": {},
   "outputs": [
    {
     "data": {
      "text/plain": [
       "Text(0, 0.5, 'Count')"
      ]
     },
     "execution_count": 18,
     "metadata": {},
     "output_type": "execute_result"
    },
    {
     "data": {
      "image/png": "[encoded data removed]",
      "text/plain": [
       "<Figure size 432x288 with 1 Axes>"
      ]
     },
     "metadata": {
      "needs_background": "light"
     },
     "output_type": "display_data"
    }
   ],
   "source": [
    "plt.hist(rf_ratings, bins=[0,1,2,3,4,5,6])\n",
    "plt.title('Distribution of RF Ratings')\n",
    "plt.xlabel('Rating')\n",
    "plt.ylabel('Count')"
   ]
  },
  {
   "cell_type": "code",
   "execution_count": 19,
   "metadata": {},
   "outputs": [
    {
     "name": "stdout",
     "output_type": "stream",
     "text": [
      "5 Star Ratings: 11656\n",
      "4 Star Ratings: 2538\n",
      "3 Star Ratings: 5513\n",
      "2 Star Ratings: 2864\n",
      "1 Star Ratings: 5761\n"
     ]
    }
   ],
   "source": [
    "print('5 Star Ratings:', np.count_nonzero(rf_ratings==5))\n",
    "print('4 Star Ratings:', np.count_nonzero(rf_ratings==4))\n",
    "print('3 Star Ratings:', np.count_nonzero(rf_ratings==3))\n",
    "print('2 Star Ratings:', np.count_nonzero(rf_ratings==2))\n",
    "print('1 Star Ratings:', np.count_nonzero(rf_ratings==1))"
   ]
  },
  {
   "cell_type": "code",
   "execution_count": 20,
   "metadata": {},
   "outputs": [
    {
     "name": "stdout",
     "output_type": "stream",
     "text": [
      "Mean Change: -1.109416913737117\n",
      "Median Change: -1.0\n",
      "Standard Deviation of Change: 1.6173430859314597\n"
     ]
    }
   ],
   "source": [
    "# change metrics for all ratings\n",
    "change1 = rf_ratings - original_ratings # gives array of amount each rating changed by\n",
    "print('Mean Change:', np.mean(change1)) # overall mean amout reviews were changed by\n",
    "print('Median Change:', np.median(change1))\n",
    "print('Standard Deviation of Change:', np.std(change1))"
   ]
  },
  {
   "cell_type": "code",
   "execution_count": 21,
   "metadata": {},
   "outputs": [],
   "source": [
    "# change metrics for each rating class (1-5)\n",
    "original_five_ratings = original_ratings[np.where(original_ratings==5)]\n",
    "rf_five_ratings = rf_ratings[np.where(original_ratings==5)]\n",
    "change_five_ratings1 = rf_five_ratings - original_five_ratings\n",
    "\n",
    "original_four_ratings = original_ratings[np.where(original_ratings==4)]\n",
    "rf_four_ratings = rf_ratings[np.where(original_ratings==4)]\n",
    "change_four_ratings1 = rf_four_ratings - original_four_ratings\n",
    "\n",
    "original_three_ratings = original_ratings[np.where(original_ratings==3)]\n",
    "rf_three_ratings = rf_ratings[np.where(original_ratings==3)]\n",
    "change_three_ratings1 = rf_three_ratings - original_three_ratings\n",
    "\n",
    "original_two_ratings = original_ratings[np.where(original_ratings==2)]\n",
    "rf_two_ratings = rf_ratings[np.where(original_ratings==2)]\n",
    "change_two_ratings1 = rf_two_ratings - original_two_ratings\n",
    "\n",
    "original_one_ratings = original_ratings[np.where(original_ratings==1)]\n",
    "rf_one_ratings = rf_ratings[np.where(original_ratings==1)]\n",
    "change_one_ratings1 = rf_one_ratings - original_one_ratings"
   ]
  },
  {
   "cell_type": "code",
   "execution_count": 22,
   "metadata": {},
   "outputs": [
    {
     "name": "stdout",
     "output_type": "stream",
     "text": [
      "5 Mean Change: -1.421721867618234\n",
      "5 Median Change: -1.0\n",
      "5 Standard Deviation of Change: 1.5248578050980615\n",
      "\n",
      "4 Mean Change: -0.6545679886685553\n",
      "4 Median Change: -1.0\n",
      "4 Standard Deviation of Change: 1.5580744491209664\n",
      "\n",
      "3 Mean Change: -0.2728026533996683\n",
      "3 Median Change: -1.0\n",
      "3 Standard Deviation of Change: 1.6035946164963193\n",
      "\n",
      "2 Mean Change: 0.3652597402597403\n",
      "2 Median Change: 0.0\n",
      "2 Standard Deviation of Change: 1.5133692942724477\n",
      "\n",
      "1 Mean Change: 0.6808290155440414\n",
      "1 Median Change: 0.0\n",
      "1 Standard Deviation of Change: 1.132513064485632\n"
     ]
    }
   ],
   "source": [
    "# find stats for each rating class\n",
    "print('5 Mean Change:', np.mean(change_five_ratings1))\n",
    "print('5 Median Change:', np.median(change_five_ratings1))\n",
    "print('5 Standard Deviation of Change:', np.std(change_five_ratings1))\n",
    "print('')\n",
    "print('4 Mean Change:', np.mean(change_four_ratings1))\n",
    "print('4 Median Change:', np.median(change_four_ratings1))\n",
    "print('4 Standard Deviation of Change:', np.std(change_four_ratings1))\n",
    "print('')\n",
    "print('3 Mean Change:', np.mean(change_three_ratings1))\n",
    "print('3 Median Change:', np.median(change_three_ratings1))\n",
    "print('3 Standard Deviation of Change:', np.std(change_three_ratings1))\n",
    "print('')\n",
    "print('2 Mean Change:', np.mean(change_two_ratings1))\n",
    "print('2 Median Change:', np.median(change_two_ratings1))\n",
    "print('2 Standard Deviation of Change:', np.std(change_two_ratings1))\n",
    "print('')\n",
    "print('1 Mean Change:', np.mean(change_one_ratings1))\n",
    "print('1 Median Change:', np.median(change_one_ratings1))\n",
    "print('1 Standard Deviation of Change:', np.std(change_one_ratings1))"
   ]
  },
  {
   "cell_type": "code",
   "execution_count": 23,
   "metadata": {},
   "outputs": [
    {
     "name": "stdout",
     "output_type": "stream",
     "text": [
      "Interpreted as: Given Rating was X, Probability it was Inc/Dec/Unc is ...\n",
      "\n",
      "Number of Decreased 5 Star Ratings: 10870 = 54.6313514600191 %\n",
      "Number of Unchanged 5 Star Ratings: 9027 = 45.368648539980896 %\n",
      "\n",
      "Number of Increased 4 Star Ratings: 2145 = 37.978045325779036 %\n",
      "Number of Decreased 4 Star Ratings: 2928 = 51.84135977337111 %\n",
      "Number of Unchanged 4 Star Ratings: 575 = 10.180594900849858 %\n",
      "\n",
      "Number of Increased 3 Star Ratings: 388 = 32.172470978441126 %\n",
      "Number of Decreased 3 Star Ratings: 607 = 50.33167495854063 %\n",
      "Number of Unchanged 3 Star Ratings: 211 = 17.495854063018243 %\n",
      "\n",
      "Number of Increased 2 Star Ratings: 228 = 37.01298701298701 %\n",
      "Number of Decreased 2 Star Ratings: 262 = 42.532467532467535 %\n",
      "Number of Unchanged 2 Star Ratings: 126 = 20.454545454545457 %\n",
      "\n",
      "Number of Increased 1 Star Ratings: 338 = 35.02590673575129 %\n",
      "Number of Unchanged 1 Star Ratings: 627 = 64.9740932642487 %\n"
     ]
    }
   ],
   "source": [
    "# find ratio of up to down for each rating class\n",
    "print('Interpreted as: Given Rating was X, Probability it was Inc/Dec/Unc is ...')\n",
    "print('')\n",
    "print('Number of Decreased 5 Star Ratings:', len(np.where(change_five_ratings1<0)[0]), '=', (len(np.where(change_five_ratings1<0)[0])/len(change_five_ratings1))*100, '%')\n",
    "print('Number of Unchanged 5 Star Ratings:', len(np.where(change_five_ratings1==0)[0]), '=',(len(np.where(change_five_ratings1==0)[0])/len(change_five_ratings1))*100, '%')# no > 0 class here as 5 ratings cant go up\n",
    "print('')\n",
    "print('Number of Increased 4 Star Ratings:', len(np.where(change_four_ratings1>0)[0]), '=',(len(np.where(change_four_ratings1>0)[0])/len(change_four_ratings1))*100, '%')\n",
    "print('Number of Decreased 4 Star Ratings:', len(np.where(change_four_ratings1<0)[0]), '=',(len(np.where(change_four_ratings1<0)[0])/len(change_four_ratings1))*100, '%')\n",
    "print('Number of Unchanged 4 Star Ratings:', len(np.where(change_four_ratings1==0)[0]), '=',(len(np.where(change_four_ratings1==0)[0])/len(change_four_ratings1))*100, '%')\n",
    "print('')\n",
    "print('Number of Increased 3 Star Ratings:', len(np.where(change_three_ratings1>0)[0]), '=',(len(np.where(change_three_ratings1>0)[0])/len(change_three_ratings1))*100, '%')\n",
    "print('Number of Decreased 3 Star Ratings:', len(np.where(change_three_ratings1<0)[0]), '=',(len(np.where(change_three_ratings1<0)[0])/len(change_three_ratings1))*100, '%')\n",
    "print('Number of Unchanged 3 Star Ratings:', len(np.where(change_three_ratings1==0)[0]), '=',(len(np.where(change_three_ratings1==0)[0])/len(change_three_ratings1))*100, '%')\n",
    "print('')\n",
    "print('Number of Increased 2 Star Ratings:', len(np.where(change_two_ratings1>0)[0]), '=',(len(np.where(change_two_ratings1>0)[0])/len(change_two_ratings1))*100, '%')\n",
    "print('Number of Decreased 2 Star Ratings:', len(np.where(change_two_ratings1<0)[0]), '=',(len(np.where(change_two_ratings1<0)[0])/len(change_two_ratings1))*100, '%')\n",
    "print('Number of Unchanged 2 Star Ratings:', len(np.where(change_two_ratings1==0)[0]), '=',(len(np.where(change_two_ratings1==0)[0])/len(change_two_ratings1))*100, '%')\n",
    "print('')\n",
    "print('Number of Increased 1 Star Ratings:', len(np.where(change_one_ratings1>0)[0]),'=', (len(np.where(change_one_ratings1>0)[0])/len(change_one_ratings1))*100, '%')\n",
    "print('Number of Unchanged 1 Star Ratings:', len(np.where(change_one_ratings1==0)[0]),'=', (len(np.where(change_one_ratings1==0)[0])/len(change_one_ratings1))*100, '%')"
   ]
  },
  {
   "cell_type": "code",
   "execution_count": 24,
   "metadata": {},
   "outputs": [
    {
     "name": "stdout",
     "output_type": "stream",
     "text": [
      "['Animals & Pet Supplies' 'Electronics' 'Health & Beauty' 'Home & Garden'\n",
      " 'Office Supplies' 'Toys & Games']\n",
      "Health Mean Change: -0.9560102725540551\n",
      "Health Median Change: 0.0\n",
      "Health Standard Deviation of Change: 1.6801590477910402\n",
      "\n",
      "Animal Mean Change: -0.8333333333333334\n",
      "Animal Median Change: -0.5\n",
      "Animal Standard Deviation of Change: 1.3437096247164249\n",
      "\n",
      "Electronic Mean Change: -1.2142857142857142\n",
      "Electronic Median Change: -1.0\n",
      "Electronic Standard Deviation of Change: 1.554985379801993\n",
      "\n",
      "Home Mean Change: -3.0\n",
      "Home Median Change: -3.0\n",
      "Home Standard Deviation of Change: 0.0\n",
      "\n",
      "Office Mean Change: -1.139240506329114\n",
      "Office Median Change: -1.0\n",
      "Office Standard Deviation of Change: 1.4801144089818508\n",
      "\n",
      "Toy Mean Change: -1.3186157517899761\n",
      "Toy Median Change: -1.0\n",
      "Toy Standard Deviation of Change: 1.6102778463880418\n"
     ]
    }
   ],
   "source": [
    "# Look at Rating Change Based on Product Type\n",
    "print(np.unique(product_categories))\n",
    "health_indices = np.where(product_categories=='Health & Beauty')\n",
    "animal_indices = np.where(product_categories=='Animals & Pet Supplies')\n",
    "electronics_indices = np.where(product_categories=='Electronics')\n",
    "home_indices = np.where(product_categories=='Home & Garden')\n",
    "office_indices = np.where(product_categories=='Office Supplies')\n",
    "toy_indices = np.where(product_categories=='Toys & Games')\n",
    "\n",
    "health_changes1 = change1[health_indices]\n",
    "animals_changes1 = change1[animal_indices]\n",
    "electronic_changes1 = change1[electronics_indices]\n",
    "home_changes1 = change1[home_indices]\n",
    "office_changes1 = change1[office_indices]\n",
    "toy_changes1 = change1[toy_indices]\n",
    "\n",
    "print('Health Mean Change:', np.mean(health_changes1)) # overall mean amout reviews were changed by\n",
    "print('Health Median Change:', np.median(health_changes1))\n",
    "print('Health Standard Deviation of Change:', np.std(health_changes1))\n",
    "print('')\n",
    "print('Animal Mean Change:', np.mean(animals_changes1)) # overall mean amout reviews were changed by\n",
    "print('Animal Median Change:', np.median(animals_changes1))\n",
    "print('Animal Standard Deviation of Change:', np.std(animals_changes1))\n",
    "print('')\n",
    "print('Electronic Mean Change:', np.mean(electronic_changes1)) # overall mean amout reviews were changed by\n",
    "print('Electronic Median Change:', np.median(electronic_changes1))\n",
    "print('Electronic Standard Deviation of Change:', np.std(electronic_changes1))\n",
    "print('')\n",
    "print('Home Mean Change:', np.mean(home_changes1)) # overall mean amout reviews were changed by\n",
    "print('Home Median Change:', np.median(home_changes1))\n",
    "print('Home Standard Deviation of Change:', np.std(home_changes1))\n",
    "print('')\n",
    "print('Office Mean Change:', np.mean(office_changes1)) # overall mean amout reviews were changed by\n",
    "print('Office Median Change:', np.median(office_changes1))\n",
    "print('Office Standard Deviation of Change:', np.std(office_changes1))\n",
    "print('')\n",
    "print('Toy Mean Change:', np.mean(toy_changes1)) # overall mean amout reviews were changed by\n",
    "print('Toy Median Change:', np.median(toy_changes1))\n",
    "print('Toy Standard Deviation of Change:', np.std(toy_changes1))"
   ]
  },
  {
   "cell_type": "code",
   "execution_count": 25,
   "metadata": {},
   "outputs": [
    {
     "name": "stdout",
     "output_type": "stream",
     "text": [
      "Interpreted as: Given Product Category was X, Probability it was Inc/Dec/Unc is ...\n",
      "\n",
      "Number of Increased Health Ratings: 1303 = 10.794466075718665 %\n",
      "Number of Decreased Health Ratings: 5167 = 42.805070002485294 %\n",
      "Number of Unchanged Health Ratings: 5601 = 46.400463921796046 %\n",
      "\n",
      "Number of Increased Animal Ratings: 1 = 16.666666666666664 %\n",
      "Number of Decreased Animal Ratings: 3 = 50.0 %\n",
      "Number of Unchanged Animal Ratings: 2 = 33.33333333333333 %\n",
      "\n",
      "Number of Increased Electronic Ratings: 1583 = 11.162036384148921 %\n",
      "Number of Decreased Electronic Ratings: 8264 = 58.2710478070794 %\n",
      "Number of Unchanged Electronic Ratings: 4335 = 30.566915808771682 %\n",
      "\n",
      "Number of Increased Home Ratings: 0 = 0.0 %\n",
      "Number of Decreased Home Ratings: 2 = 100.0 %\n",
      "Number of Unchanged Home Ratings: 0 = 0.0 %\n",
      "\n",
      "Number of Increased Office Ratings: 41 = 10.379746835443038 %\n",
      "Number of Decreased Office Ratings: 228 = 57.72151898734177 %\n",
      "Number of Unchanged Office Ratings: 126 = 31.89873417721519 %\n",
      "\n",
      "Number of Increased Toy Ratings: 171 = 10.202863961813842 %\n",
      "Number of Decreased Toy Ratings: 1003 = 59.84486873508354 %\n",
      "Number of Unchanged Toy Ratings: 502 = 29.952267303102627 %\n"
     ]
    }
   ],
   "source": [
    "# change likelihood given product category\n",
    "print('Interpreted as: Given Product Category was X, Probability it was Inc/Dec/Unc is ...')\n",
    "print('')\n",
    "print('Number of Increased Health Ratings:', len(np.where(health_changes1>0)[0]), '=',(len(np.where(health_changes1>0)[0])/len(health_changes1))*100, '%')\n",
    "print('Number of Decreased Health Ratings:', len(np.where(health_changes1<0)[0]), '=',(len(np.where(health_changes1<0)[0])/len(health_changes1))*100, '%')\n",
    "print('Number of Unchanged Health Ratings:', len(np.where(health_changes1==0)[0]), '=',(len(np.where(health_changes1==0)[0])/len(health_changes1))*100, '%')\n",
    "print('')\n",
    "print('Number of Increased Animal Ratings:', len(np.where(animals_changes1>0)[0]), '=',(len(np.where(animals_changes1>0)[0])/len(animals_changes1))*100, '%')\n",
    "print('Number of Decreased Animal Ratings:', len(np.where(animals_changes1<0)[0]), '=',(len(np.where(animals_changes1<0)[0])/len(animals_changes1))*100, '%')\n",
    "print('Number of Unchanged Animal Ratings:', len(np.where(animals_changes1==0)[0]), '=',(len(np.where(animals_changes1==0)[0])/len(animals_changes1))*100, '%')\n",
    "print('')\n",
    "print('Number of Increased Electronic Ratings:', len(np.where(electronic_changes1>0)[0]), '=',(len(np.where(electronic_changes1>0)[0])/len(electronic_changes1))*100, '%')\n",
    "print('Number of Decreased Electronic Ratings:', len(np.where(electronic_changes1<0)[0]), '=',(len(np.where(electronic_changes1<0)[0])/len(electronic_changes1))*100, '%')\n",
    "print('Number of Unchanged Electronic Ratings:', len(np.where(electronic_changes1==0)[0]), '=',(len(np.where(electronic_changes1==0)[0])/len(electronic_changes1))*100, '%')\n",
    "print('')\n",
    "print('Number of Increased Home Ratings:', len(np.where(home_changes1>0)[0]), '=',(len(np.where(home_changes1>0)[0])/len(home_changes1))*100, '%')\n",
    "print('Number of Decreased Home Ratings:', len(np.where(home_changes1<0)[0]), '=',(len(np.where(home_changes1<0)[0])/len(home_changes1))*100, '%')\n",
    "print('Number of Unchanged Home Ratings:', len(np.where(home_changes1==0)[0]), '=',(len(np.where(home_changes1==0)[0])/len(home_changes1))*100, '%')\n",
    "print('')\n",
    "print('Number of Increased Office Ratings:', len(np.where(office_changes1>0)[0]), '=',(len(np.where(office_changes1>0)[0])/len(office_changes1))*100, '%')\n",
    "print('Number of Decreased Office Ratings:', len(np.where(office_changes1<0)[0]), '=',(len(np.where(office_changes1<0)[0])/len(office_changes1))*100, '%')\n",
    "print('Number of Unchanged Office Ratings:', len(np.where(office_changes1==0)[0]), '=',(len(np.where(office_changes1==0)[0])/len(office_changes1))*100, '%')\n",
    "print('')\n",
    "print('Number of Increased Toy Ratings:', len(np.where(toy_changes1>0)[0]), '=',(len(np.where(toy_changes1>0)[0])/len(toy_changes1))*100, '%')\n",
    "print('Number of Decreased Toy Ratings:', len(np.where(toy_changes1<0)[0]), '=',(len(np.where(toy_changes1<0)[0])/len(toy_changes1))*100, '%')\n",
    "print('Number of Unchanged Toy Ratings:', len(np.where(toy_changes1==0)[0]), '=',(len(np.where(toy_changes1==0)[0])/len(toy_changes1))*100, '%')"
   ]
  },
  {
   "cell_type": "code",
   "execution_count": null,
   "metadata": {},
   "outputs": [],
   "source": []
  }
 ],
 "metadata": {
  "kernelspec": {
   "display_name": "Python 3",
   "language": "python",
   "name": "python3"
  },
  "language_info": {
   "codemirror_mode": {
    "name": "ipython",
    "version": 3
   },
   "file_extension": ".py",
   "mimetype": "text/x-python",
   "name": "python",
   "nbconvert_exporter": "python",
   "pygments_lexer": "ipython3",
   "version": "3.7.6"
  }
 },
 "nbformat": 4,
 "nbformat_minor": 4
}

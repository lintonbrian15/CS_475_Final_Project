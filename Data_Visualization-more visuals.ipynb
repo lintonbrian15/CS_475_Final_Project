{
  "nbformat": 4,
  "nbformat_minor": 0,
  "metadata": {
    "kernelspec": {
      "display_name": "Python 3",
      "language": "python",
      "name": "python3"
    },
    "language_info": {
      "codemirror_mode": {
        "name": "ipython",
        "version": 3
      },
      "file_extension": ".py",
      "mimetype": "text/x-python",
      "name": "python",
      "nbconvert_exporter": "python",
      "pygments_lexer": "ipython3",
      "version": "3.7.6"
    },
    "colab": {
      "name": "Data_Visualization.ipynb",
      "provenance": [],
      "collapsed_sections": []
    }
  },
  "cells": [
    {
      "cell_type": "code",
      "metadata": {
        "id": "xflHZgbezuT6"
      },
      "source": [
        "# Easier to make graphs and print computations here"
      ],
      "execution_count": null,
      "outputs": []
    },
    {
      "cell_type": "code",
      "metadata": {
        "id": "0tNV1LSfzuT7"
      },
      "source": [
        "import numpy as np\n",
        "from numpy import genfromtxt\n",
        "import matplotlib.pyplot as plt\n",
        "from scipy import stats\n",
        "from google.colab import files\n",
        "\n",
        "svm_ratings = genfromtxt('svm_new_ratings.csv', delimiter=',')\n",
        "original_ratings = genfromtxt('original_amazon_ratings.csv', delimiter=',')\n",
        "product_categories = genfromtxt('product_categories.csv', delimiter='|', dtype=str)"
      ],
      "execution_count": 4,
      "outputs": []
    },
    {
      "cell_type": "code",
      "metadata": {
        "id": "I4lnp4M50BS5",
        "colab": {
          "base_uri": "https://localhost:8080/",
          "height": 562
        },
        "outputId": "f03d25dc-ad5e-436a-e174-17336b647c22"
      },
      "source": [
        "from google.colab import drive\n",
        "drive.mount('/content/drive')"
      ],
      "execution_count": 5,
      "outputs": [
        {
          "output_type": "error",
          "ename": "KeyboardInterrupt",
          "evalue": "ignored",
          "traceback": [
            "\u001b[0;31m---------------------------------------------------------------------------\u001b[0m",
            "\u001b[0;31mKeyboardInterrupt\u001b[0m                         Traceback (most recent call last)",
            "\u001b[0;32m/usr/local/lib/python3.6/dist-packages/ipykernel/kernelbase.py\u001b[0m in \u001b[0;36m_input_request\u001b[0;34m(self, prompt, ident, parent, password)\u001b[0m\n\u001b[1;32m    728\u001b[0m             \u001b[0;32mtry\u001b[0m\u001b[0;34m:\u001b[0m\u001b[0;34m\u001b[0m\u001b[0;34m\u001b[0m\u001b[0m\n\u001b[0;32m--> 729\u001b[0;31m                 \u001b[0mident\u001b[0m\u001b[0;34m,\u001b[0m \u001b[0mreply\u001b[0m \u001b[0;34m=\u001b[0m \u001b[0mself\u001b[0m\u001b[0;34m.\u001b[0m\u001b[0msession\u001b[0m\u001b[0;34m.\u001b[0m\u001b[0mrecv\u001b[0m\u001b[0;34m(\u001b[0m\u001b[0mself\u001b[0m\u001b[0;34m.\u001b[0m\u001b[0mstdin_socket\u001b[0m\u001b[0;34m,\u001b[0m \u001b[0;36m0\u001b[0m\u001b[0;34m)\u001b[0m\u001b[0;34m\u001b[0m\u001b[0;34m\u001b[0m\u001b[0m\n\u001b[0m\u001b[1;32m    730\u001b[0m             \u001b[0;32mexcept\u001b[0m \u001b[0mException\u001b[0m\u001b[0;34m:\u001b[0m\u001b[0;34m\u001b[0m\u001b[0;34m\u001b[0m\u001b[0m\n",
            "\u001b[0;32m/usr/local/lib/python3.6/dist-packages/jupyter_client/session.py\u001b[0m in \u001b[0;36mrecv\u001b[0;34m(self, socket, mode, content, copy)\u001b[0m\n\u001b[1;32m    802\u001b[0m         \u001b[0;32mtry\u001b[0m\u001b[0;34m:\u001b[0m\u001b[0;34m\u001b[0m\u001b[0;34m\u001b[0m\u001b[0m\n\u001b[0;32m--> 803\u001b[0;31m             \u001b[0mmsg_list\u001b[0m \u001b[0;34m=\u001b[0m \u001b[0msocket\u001b[0m\u001b[0;34m.\u001b[0m\u001b[0mrecv_multipart\u001b[0m\u001b[0;34m(\u001b[0m\u001b[0mmode\u001b[0m\u001b[0;34m,\u001b[0m \u001b[0mcopy\u001b[0m\u001b[0;34m=\u001b[0m\u001b[0mcopy\u001b[0m\u001b[0;34m)\u001b[0m\u001b[0;34m\u001b[0m\u001b[0;34m\u001b[0m\u001b[0m\n\u001b[0m\u001b[1;32m    804\u001b[0m         \u001b[0;32mexcept\u001b[0m \u001b[0mzmq\u001b[0m\u001b[0;34m.\u001b[0m\u001b[0mZMQError\u001b[0m \u001b[0;32mas\u001b[0m \u001b[0me\u001b[0m\u001b[0;34m:\u001b[0m\u001b[0;34m\u001b[0m\u001b[0;34m\u001b[0m\u001b[0m\n",
            "\u001b[0;32m/usr/local/lib/python3.6/dist-packages/zmq/sugar/socket.py\u001b[0m in \u001b[0;36mrecv_multipart\u001b[0;34m(self, flags, copy, track)\u001b[0m\n\u001b[1;32m    565\u001b[0m         \"\"\"\n\u001b[0;32m--> 566\u001b[0;31m         \u001b[0mparts\u001b[0m \u001b[0;34m=\u001b[0m \u001b[0;34m[\u001b[0m\u001b[0mself\u001b[0m\u001b[0;34m.\u001b[0m\u001b[0mrecv\u001b[0m\u001b[0;34m(\u001b[0m\u001b[0mflags\u001b[0m\u001b[0;34m,\u001b[0m \u001b[0mcopy\u001b[0m\u001b[0;34m=\u001b[0m\u001b[0mcopy\u001b[0m\u001b[0;34m,\u001b[0m \u001b[0mtrack\u001b[0m\u001b[0;34m=\u001b[0m\u001b[0mtrack\u001b[0m\u001b[0;34m)\u001b[0m\u001b[0;34m]\u001b[0m\u001b[0;34m\u001b[0m\u001b[0;34m\u001b[0m\u001b[0m\n\u001b[0m\u001b[1;32m    567\u001b[0m         \u001b[0;31m# have first part already, only loop while more to receive\u001b[0m\u001b[0;34m\u001b[0m\u001b[0;34m\u001b[0m\u001b[0;34m\u001b[0m\u001b[0m\n",
            "\u001b[0;32mzmq/backend/cython/socket.pyx\u001b[0m in \u001b[0;36mzmq.backend.cython.socket.Socket.recv\u001b[0;34m()\u001b[0m\n",
            "\u001b[0;32mzmq/backend/cython/socket.pyx\u001b[0m in \u001b[0;36mzmq.backend.cython.socket.Socket.recv\u001b[0;34m()\u001b[0m\n",
            "\u001b[0;32mzmq/backend/cython/socket.pyx\u001b[0m in \u001b[0;36mzmq.backend.cython.socket._recv_copy\u001b[0;34m()\u001b[0m\n",
            "\u001b[0;32m/usr/local/lib/python3.6/dist-packages/zmq/backend/cython/checkrc.pxd\u001b[0m in \u001b[0;36mzmq.backend.cython.checkrc._check_rc\u001b[0;34m()\u001b[0m\n",
            "\u001b[0;31mKeyboardInterrupt\u001b[0m: ",
            "\nDuring handling of the above exception, another exception occurred:\n",
            "\u001b[0;31mKeyboardInterrupt\u001b[0m                         Traceback (most recent call last)",
            "\u001b[0;32m<ipython-input-5-d5df0069828e>\u001b[0m in \u001b[0;36m<module>\u001b[0;34m()\u001b[0m\n\u001b[1;32m      1\u001b[0m \u001b[0;32mfrom\u001b[0m \u001b[0mgoogle\u001b[0m\u001b[0;34m.\u001b[0m\u001b[0mcolab\u001b[0m \u001b[0;32mimport\u001b[0m \u001b[0mdrive\u001b[0m\u001b[0;34m\u001b[0m\u001b[0;34m\u001b[0m\u001b[0m\n\u001b[0;32m----> 2\u001b[0;31m \u001b[0mdrive\u001b[0m\u001b[0;34m.\u001b[0m\u001b[0mmount\u001b[0m\u001b[0;34m(\u001b[0m\u001b[0;34m'/content/drive'\u001b[0m\u001b[0;34m)\u001b[0m\u001b[0;34m\u001b[0m\u001b[0;34m\u001b[0m\u001b[0m\n\u001b[0m",
            "\u001b[0;32m/usr/local/lib/python3.6/dist-packages/google/colab/drive.py\u001b[0m in \u001b[0;36mmount\u001b[0;34m(mountpoint, force_remount, timeout_ms, use_metadata_server)\u001b[0m\n\u001b[1;32m    249\u001b[0m       \u001b[0;32mwith\u001b[0m \u001b[0m_output\u001b[0m\u001b[0;34m.\u001b[0m\u001b[0muse_tags\u001b[0m\u001b[0;34m(\u001b[0m\u001b[0;34m'dfs-auth-dance'\u001b[0m\u001b[0;34m)\u001b[0m\u001b[0;34m:\u001b[0m\u001b[0;34m\u001b[0m\u001b[0;34m\u001b[0m\u001b[0m\n\u001b[1;32m    250\u001b[0m         \u001b[0;32mwith\u001b[0m \u001b[0mopen\u001b[0m\u001b[0;34m(\u001b[0m\u001b[0mfifo\u001b[0m\u001b[0;34m,\u001b[0m \u001b[0;34m'w'\u001b[0m\u001b[0;34m)\u001b[0m \u001b[0;32mas\u001b[0m \u001b[0mfifo_file\u001b[0m\u001b[0;34m:\u001b[0m\u001b[0;34m\u001b[0m\u001b[0;34m\u001b[0m\u001b[0m\n\u001b[0;32m--> 251\u001b[0;31m           \u001b[0mfifo_file\u001b[0m\u001b[0;34m.\u001b[0m\u001b[0mwrite\u001b[0m\u001b[0;34m(\u001b[0m\u001b[0mget_code\u001b[0m\u001b[0;34m(\u001b[0m\u001b[0mauth_prompt\u001b[0m\u001b[0;34m)\u001b[0m \u001b[0;34m+\u001b[0m \u001b[0;34m'\\n'\u001b[0m\u001b[0;34m)\u001b[0m\u001b[0;34m\u001b[0m\u001b[0;34m\u001b[0m\u001b[0m\n\u001b[0m\u001b[1;32m    252\u001b[0m       \u001b[0mwrote_to_fifo\u001b[0m \u001b[0;34m=\u001b[0m \u001b[0;32mTrue\u001b[0m\u001b[0;34m\u001b[0m\u001b[0;34m\u001b[0m\u001b[0m\n\u001b[1;32m    253\u001b[0m     \u001b[0;32melif\u001b[0m \u001b[0mcase\u001b[0m \u001b[0;34m==\u001b[0m \u001b[0;36m5\u001b[0m\u001b[0;34m:\u001b[0m\u001b[0;34m\u001b[0m\u001b[0;34m\u001b[0m\u001b[0m\n",
            "\u001b[0;32m/usr/local/lib/python3.6/dist-packages/ipykernel/kernelbase.py\u001b[0m in \u001b[0;36mraw_input\u001b[0;34m(self, prompt)\u001b[0m\n\u001b[1;32m    702\u001b[0m             \u001b[0mself\u001b[0m\u001b[0;34m.\u001b[0m\u001b[0m_parent_ident\u001b[0m\u001b[0;34m,\u001b[0m\u001b[0;34m\u001b[0m\u001b[0;34m\u001b[0m\u001b[0m\n\u001b[1;32m    703\u001b[0m             \u001b[0mself\u001b[0m\u001b[0;34m.\u001b[0m\u001b[0m_parent_header\u001b[0m\u001b[0;34m,\u001b[0m\u001b[0;34m\u001b[0m\u001b[0;34m\u001b[0m\u001b[0m\n\u001b[0;32m--> 704\u001b[0;31m             \u001b[0mpassword\u001b[0m\u001b[0;34m=\u001b[0m\u001b[0;32mFalse\u001b[0m\u001b[0;34m,\u001b[0m\u001b[0;34m\u001b[0m\u001b[0;34m\u001b[0m\u001b[0m\n\u001b[0m\u001b[1;32m    705\u001b[0m         )\n\u001b[1;32m    706\u001b[0m \u001b[0;34m\u001b[0m\u001b[0m\n",
            "\u001b[0;32m/usr/local/lib/python3.6/dist-packages/ipykernel/kernelbase.py\u001b[0m in \u001b[0;36m_input_request\u001b[0;34m(self, prompt, ident, parent, password)\u001b[0m\n\u001b[1;32m    732\u001b[0m             \u001b[0;32mexcept\u001b[0m \u001b[0mKeyboardInterrupt\u001b[0m\u001b[0;34m:\u001b[0m\u001b[0;34m\u001b[0m\u001b[0;34m\u001b[0m\u001b[0m\n\u001b[1;32m    733\u001b[0m                 \u001b[0;31m# re-raise KeyboardInterrupt, to truncate traceback\u001b[0m\u001b[0;34m\u001b[0m\u001b[0;34m\u001b[0m\u001b[0;34m\u001b[0m\u001b[0m\n\u001b[0;32m--> 734\u001b[0;31m                 \u001b[0;32mraise\u001b[0m \u001b[0mKeyboardInterrupt\u001b[0m\u001b[0;34m\u001b[0m\u001b[0;34m\u001b[0m\u001b[0m\n\u001b[0m\u001b[1;32m    735\u001b[0m             \u001b[0;32melse\u001b[0m\u001b[0;34m:\u001b[0m\u001b[0;34m\u001b[0m\u001b[0;34m\u001b[0m\u001b[0m\n\u001b[1;32m    736\u001b[0m                 \u001b[0;32mbreak\u001b[0m\u001b[0;34m\u001b[0m\u001b[0;34m\u001b[0m\u001b[0m\n",
            "\u001b[0;31mKeyboardInterrupt\u001b[0m: "
          ]
        }
      ]
    },
    {
      "cell_type": "code",
      "metadata": {
        "id": "R3W95PqOzuT7",
        "colab": {
          "base_uri": "https://localhost:8080/",
          "height": 312
        },
        "outputId": "21b1dd09-d430-4165-8a70-3cb3a987b135"
      },
      "source": [
        "plt.hist(original_ratings, bins=[0,1,2,3,4,5,6])\n",
        "plt.title('Distribution of Original Amazon Ratings')\n",
        "plt.xlabel('Rating')\n",
        "plt.ylabel('Count')"
      ],
      "execution_count": 47,
      "outputs": [
        {
          "output_type": "execute_result",
          "data": {
            "text/plain": [
              "Text(0, 0.5, 'Count')"
            ]
          },
          "metadata": {
            "tags": []
          },
          "execution_count": 47
        },
        {
          "output_type": "display_data",
          "data": {
            "image/png": "[encoded data removed]",
            "text/plain": [
              "<Figure size 432x288 with 1 Axes>"
            ]
          },
          "metadata": {
            "tags": [],
            "needs_background": "light"
          }
        }
      ]
    },
    {
      "cell_type": "code",
      "metadata": {
        "id": "QzCAtooqzuT8",
        "colab": {
          "base_uri": "https://localhost:8080/"
        },
        "outputId": "c7a77097-4222-4215-870c-32fdcb0bf1e5"
      },
      "source": [
        "print('5 Star Ratings:', np.count_nonzero(original_ratings==5))\n",
        "print('4 Star Ratings:', np.count_nonzero(original_ratings==4))\n",
        "print('3 Star Ratings:', np.count_nonzero(original_ratings==3))\n",
        "print('2 Star Ratings:', np.count_nonzero(original_ratings==2))\n",
        "print('1 Star Ratings:', np.count_nonzero(original_ratings==1))\n",
        "\n"
      ],
      "execution_count": 23,
      "outputs": [
        {
          "output_type": "stream",
          "text": [
            "5 Star Ratings: 19897\n",
            "4 Star Ratings: 5648\n",
            "3 Star Ratings: 1206\n",
            "2 Star Ratings: 616\n",
            "1 Star Ratings: 965\n"
          ],
          "name": "stdout"
        }
      ]
    },
    {
      "cell_type": "code",
      "metadata": {
        "id": "81_N8tZ1zuT8"
      },
      "source": [
        "# SVM Rating Investigation"
      ],
      "execution_count": 8,
      "outputs": []
    },
    {
      "cell_type": "code",
      "metadata": {
        "id": "giXnATyKzuT8",
        "colab": {
          "base_uri": "https://localhost:8080/",
          "height": 312
        },
        "outputId": "ef84012f-0a7e-490c-e2fb-be3284d0e0a1"
      },
      "source": [
        "plt.hist(svm_ratings, bins=[0,1,2,3,4,5,6])\n",
        "plt.title('Distribution of SVM Ratings')\n",
        "plt.xlabel('Rating')\n",
        "plt.ylabel('Count')"
      ],
      "execution_count": 9,
      "outputs": [
        {
          "output_type": "execute_result",
          "data": {
            "text/plain": [
              "Text(0, 0.5, 'Count')"
            ]
          },
          "metadata": {
            "tags": []
          },
          "execution_count": 9
        },
        {
          "output_type": "display_data",
          "data": {
            "image/png": "[encoded data removed]",
            "text/plain": [
              "<Figure size 432x288 with 1 Axes>"
            ]
          },
          "metadata": {
            "tags": [],
            "needs_background": "light"
          }
        }
      ]
    },
    {
      "cell_type": "code",
      "metadata": {
        "id": "eadHKZyezuT8",
        "colab": {
          "base_uri": "https://localhost:8080/",
          "height": 366
        },
        "outputId": "c01164bf-cb7f-40fc-dcf5-d3bed4693fcc"
      },
      "source": [
        "print('5 Star Ratings:', np.count_nonzero(svm_ratings==5))\n",
        "print('4 Star Ratings:', np.count_nonzero(svm_ratings==4))\n",
        "print('3 Star Ratings:', np.count_nonzero(svm_ratings==3))\n",
        "print('2 Star Ratings:', np.count_nonzero(svm_ratings==2))\n",
        "print('1 Star Ratings:', np.count_nonzero(svm_ratings==1))\n",
        "\n",
        "arr = np.array([np.count_nonzero(svm_ratings==5), np.count_nonzero(svm_ratings==4), np.count_nonzero(svm_ratings==3), np.count_nonzero(svm_ratings==2), np.count_nonzero(svm_ratings==1)])\n",
        "title_list = [\"5 Star\", \"4 Star\", \"3 Star\", \"2 Star\", \"1 Star\"]\n",
        "plt.pie(arr, labels = title_list, shadow = True, labeldistance=None, autopct='%1.1f%%')\n",
        "plt.title(\"Percentage of Reviews by Rating\")\n",
        "plt.legend()"
      ],
      "execution_count": 48,
      "outputs": [
        {
          "output_type": "stream",
          "text": [
            "5 Star Ratings: 14893\n",
            "4 Star Ratings: 3266\n",
            "3 Star Ratings: 4723\n",
            "2 Star Ratings: 1686\n",
            "1 Star Ratings: 3764\n"
          ],
          "name": "stdout"
        },
        {
          "output_type": "execute_result",
          "data": {
            "text/plain": [
              "<matplotlib.legend.Legend at 0x7fe1a747f550>"
            ]
          },
          "metadata": {
            "tags": []
          },
          "execution_count": 48
        },
        {
          "output_type": "display_data",
          "data": {
            "image/png": "[encoded data removed]",
            "text/plain": [
              "<Figure size 432x288 with 1 Axes>"
            ]
          },
          "metadata": {
            "tags": []
          }
        }
      ]
    },
    {
      "cell_type": "code",
      "metadata": {
        "id": "T7H8MaeOzuT9",
        "colab": {
          "base_uri": "https://localhost:8080/"
        },
        "outputId": "1f63b554-0f18-4b78-efe7-997e9d2b1052"
      },
      "source": [
        "# change metrics for all ratings\n",
        "change = svm_ratings - original_ratings # gives array of amount each rating changed by\n",
        "print('Mean Change:', np.mean(change)) # overall mean amout reviews were changed by\n",
        "print('Median Change:', np.median(change))\n",
        "print('Standard Deviation of Change:', np.std(change))"
      ],
      "execution_count": 11,
      "outputs": [
        {
          "output_type": "stream",
          "text": [
            "Mean Change: -0.6726669490328957\n",
            "Median Change: 0.0\n",
            "Standard Deviation of Change: 1.4872310919814045\n"
          ],
          "name": "stdout"
        }
      ]
    },
    {
      "cell_type": "code",
      "metadata": {
        "id": "y6Z4ruySzuT9"
      },
      "source": [
        "# change metrics for each rating class (1-5)\n",
        "original_five_ratings = original_ratings[np.where(original_ratings==5)]\n",
        "svm_five_ratings = svm_ratings[np.where(original_ratings==5)]\n",
        "change_five_ratings = svm_five_ratings - original_five_ratings\n",
        "\n",
        "original_four_ratings = original_ratings[np.where(original_ratings==4)]\n",
        "svm_four_ratings = svm_ratings[np.where(original_ratings==4)]\n",
        "change_four_ratings = svm_four_ratings - original_four_ratings\n",
        "\n",
        "original_three_ratings = original_ratings[np.where(original_ratings==3)]\n",
        "svm_three_ratings = svm_ratings[np.where(original_ratings==3)]\n",
        "change_three_ratings = svm_three_ratings - original_three_ratings\n",
        "\n",
        "original_two_ratings = original_ratings[np.where(original_ratings==2)]\n",
        "svm_two_ratings = svm_ratings[np.where(original_ratings==2)]\n",
        "change_two_ratings = svm_two_ratings - original_two_ratings\n",
        "\n",
        "original_one_ratings = original_ratings[np.where(original_ratings==1)]\n",
        "svm_one_ratings = svm_ratings[np.where(original_ratings==1)]\n",
        "change_one_ratings = svm_one_ratings - original_one_ratings"
      ],
      "execution_count": 12,
      "outputs": []
    },
    {
      "cell_type": "code",
      "metadata": {
        "id": "oFzwwIPgzuT9",
        "colab": {
          "base_uri": "https://localhost:8080/"
        },
        "outputId": "0b5a84f4-7a6a-48cf-d2a7-2ab72077eb5d"
      },
      "source": [
        "# find stats for each rating class\n",
        "print('5 Mean Change:', np.mean(change_five_ratings))\n",
        "print('5 Median Change:', np.median(change_five_ratings))\n",
        "print('5 Standard Deviation of Change:', np.std(change_five_ratings))\n",
        "print('')\n",
        "print('4 Mean Change:', np.mean(change_four_ratings))\n",
        "print('4 Median Change:', np.median(change_four_ratings))\n",
        "print('4 Standard Deviation of Change:', np.std(change_four_ratings))\n",
        "print('')\n",
        "print('3 Mean Change:', np.mean(change_three_ratings))\n",
        "print('3 Median Change:', np.median(change_three_ratings))\n",
        "print('3 Standard Deviation of Change:', np.std(change_three_ratings))\n",
        "print('')\n",
        "print('2 Mean Change:', np.mean(change_two_ratings))\n",
        "print('2 Median Change:', np.median(change_two_ratings))\n",
        "print('2 Standard Deviation of Change:', np.std(change_two_ratings))\n",
        "print('')\n",
        "print('1 Mean Change:', np.mean(change_one_ratings))\n",
        "print('1 Median Change:', np.median(change_one_ratings))\n",
        "print('1 Standard Deviation of Change:', np.std(change_one_ratings))"
      ],
      "execution_count": 13,
      "outputs": [
        {
          "output_type": "stream",
          "text": [
            "5 Mean Change: -0.9912047042267679\n",
            "5 Median Change: 0.0\n",
            "5 Standard Deviation of Change: 1.3600363932503632\n",
            "\n",
            "4 Mean Change: -0.15846317280453256\n",
            "4 Median Change: 1.0\n",
            "4 Standard Deviation of Change: 1.4215295858245918\n",
            "\n",
            "3 Mean Change: 0.10945273631840796\n",
            "3 Median Change: 0.0\n",
            "3 Standard Deviation of Change: 1.591736600481295\n",
            "\n",
            "2 Mean Change: 0.6233766233766234\n",
            "2 Median Change: 0.0\n",
            "2 Standard Deviation of Change: 1.5100439577239888\n",
            "\n",
            "1 Mean Change: 1.0808290155440414\n",
            "1 Median Change: 1.0\n",
            "1 Standard Deviation of Change: 1.3419092950928329\n"
          ],
          "name": "stdout"
        }
      ]
    },
    {
      "cell_type": "code",
      "metadata": {
        "id": "kUfh34c3zuT9",
        "colab": {
          "base_uri": "https://localhost:8080/",
          "height": 635
        },
        "outputId": "07f3045d-8e69-43b6-a9b5-2eaa71c8354a"
      },
      "source": [
        "# find ratio of up to down for each rating class\n",
        "print('Interpreted as: Given Rating was X, Probability it was Inc/Dec/Unc is ...')\n",
        "print('')\n",
        "print('Number of Decreased 5 Star Ratings:', len(np.where(change_five_ratings<0)[0]), '=', (len(np.where(change_five_ratings<0)[0])/len(change_five_ratings))*100, '%')\n",
        "print('Number of Unchanged 5 Star Ratings:', len(np.where(change_five_ratings==0)[0]), '=',(len(np.where(change_five_ratings==0)[0])/len(change_five_ratings))*100, '%')# no > 0 class here as 5 ratings cant go up\n",
        "print('')\n",
        "print('Number of Increased 4 Star Ratings:', len(np.where(change_four_ratings>0)[0]), '=',(len(np.where(change_four_ratings>0)[0])/len(change_four_ratings))*100, '%')\n",
        "print('Number of Decreased 4 Star Ratings:', len(np.where(change_four_ratings<0)[0]), '=',(len(np.where(change_four_ratings<0)[0])/len(change_four_ratings))*100, '%')\n",
        "print('Number of Unchanged 4 Star Ratings:', len(np.where(change_four_ratings==0)[0]), '=',(len(np.where(change_four_ratings==0)[0])/len(change_four_ratings))*100, '%')\n",
        "print('')\n",
        "print('Number of Increased 3 Star Ratings:', len(np.where(change_three_ratings>0)[0]), '=',(len(np.where(change_three_ratings>0)[0])/len(change_three_ratings))*100, '%')\n",
        "print('Number of Decreased 3 Star Ratings:', len(np.where(change_three_ratings<0)[0]), '=',(len(np.where(change_three_ratings<0)[0])/len(change_three_ratings))*100, '%')\n",
        "print('Number of Unchanged 3 Star Ratings:', len(np.where(change_three_ratings==0)[0]), '=',(len(np.where(change_three_ratings==0)[0])/len(change_three_ratings))*100, '%')\n",
        "print('')\n",
        "print('Number of Increased 2 Star Ratings:', len(np.where(change_two_ratings>0)[0]), '=',(len(np.where(change_two_ratings>0)[0])/len(change_two_ratings))*100, '%')\n",
        "print('Number of Decreased 2 Star Ratings:', len(np.where(change_two_ratings<0)[0]), '=',(len(np.where(change_two_ratings<0)[0])/len(change_two_ratings))*100, '%')\n",
        "print('Number of Unchanged 2 Star Ratings:', len(np.where(change_two_ratings==0)[0]), '=',(len(np.where(change_two_ratings==0)[0])/len(change_two_ratings))*100, '%')\n",
        "print('')\n",
        "print('Number of Increased 1 Star Ratings:', len(np.where(change_one_ratings>0)[0]),'=', (len(np.where(change_one_ratings>0)[0])/len(change_one_ratings))*100, '%')\n",
        "print('Number of Unchanged 1 Star Ratings:', len(np.where(change_one_ratings==0)[0]),'=', (len(np.where(change_one_ratings==0)[0])/len(change_one_ratings))*100, '%')\n",
        "\n",
        "\n",
        "# arr = np.array([np.count_nonzero(svm_ratings==5), np.count_nonzero(svm_ratings==4), np.count_nonzero(svm_ratings==3), np.count_nonzero(svm_ratings==2), np.count_nonzero(svm_ratings==1)])\n",
        "# title_list = [\"5 Star\", \"4 Star\", \"3 Star\", \"2 Star\", \"1 Star\"]\n",
        "# plt.pie(arr, labels = title_list, shadow = True, labeldistance=None)\n",
        "# plt.legend()\n",
        "fiveStar = (len(np.where(change_five_ratings<0)[0])/len(change_five_ratings))*100\n",
        "fourStar = ((len(np.where(change_four_ratings>0)[0])/len(change_four_ratings))*100) + (len(np.where(change_four_ratings<0)[0])/len(change_four_ratings))*100\n",
        "threeStar = (len(np.where(change_three_ratings>0)[0])/len(change_three_ratings))*100 + (len(np.where(change_three_ratings<0)[0])/len(change_three_ratings))*100\n",
        "twoStar = (len(np.where(change_two_ratings>0)[0])/len(change_two_ratings))*100 + (len(np.where(change_two_ratings<0)[0])/len(change_two_ratings))*100\n",
        "oneStar = (len(np.where(change_one_ratings>0)[0])/len(change_one_ratings))*100\n",
        "\n",
        "changed_arr = np.array([fiveStar, fourStar, threeStar, twoStar, oneStar])\n",
        "x = [ 1, 2, 3, 4, 5]\n",
        "# arr = np.array([np.count_nonzero(svm_ratings==5), np.count_nonzero(svm_ratings==4), np.count_nonzero(svm_ratings==3), np.count_nonzero(svm_ratings==2), np.count_nonzero(svm_ratings==1)])\n",
        "# title_lists = [\"5 Star\" , \"4 Star\", \"3 Star\", \"2 Star\", \"1 Star\"]\n",
        "# ax = plt.pie(changed_arr, labels = title_lists)\n",
        "\n",
        "# plt.title(\"Percentage of Changes for each Rating\")\n",
        "plt.bar(x, changed_arr, color = \"skyblue\")\n",
        "plt.title(\"Percentage of Reviews that Changed per Rating\")\n",
        "plt.ylabel(\"Percentage of Review Changes\")\n",
        "plt.xlabel(\"Original Review Rating\")\n"
      ],
      "execution_count": 46,
      "outputs": [
        {
          "output_type": "stream",
          "text": [
            "Interpreted as: Given Rating was X, Probability it was Inc/Dec/Unc is ...\n",
            "\n",
            "Number of Decreased 5 Star Ratings: 8500 = 42.72000804141328 %\n",
            "Number of Unchanged 5 Star Ratings: 11397 = 57.27999195858672 %\n",
            "\n",
            "Number of Increased 4 Star Ratings: 2882 = 51.02691218130312 %\n",
            "Number of Decreased 4 Star Ratings: 2033 = 35.99504249291785 %\n",
            "Number of Unchanged 4 Star Ratings: 733 = 12.978045325779036 %\n",
            "\n",
            "Number of Increased 3 Star Ratings: 518 = 42.95190713101161 %\n",
            "Number of Decreased 3 Star Ratings: 443 = 36.73300165837479 %\n",
            "Number of Unchanged 3 Star Ratings: 245 = 20.3150912106136 %\n",
            "\n",
            "Number of Increased 2 Star Ratings: 283 = 45.94155844155844 %\n",
            "Number of Decreased 2 Star Ratings: 201 = 32.62987012987013 %\n",
            "Number of Unchanged 2 Star Ratings: 132 = 21.428571428571427 %\n",
            "\n",
            "Number of Increased 1 Star Ratings: 490 = 50.77720207253886 %\n",
            "Number of Unchanged 1 Star Ratings: 475 = 49.22279792746114 %\n"
          ],
          "name": "stdout"
        },
        {
          "output_type": "execute_result",
          "data": {
            "text/plain": [
              "Text(0.5, 0, 'Original Review Rating')"
            ]
          },
          "metadata": {
            "tags": []
          },
          "execution_count": 46
        },
        {
          "output_type": "display_data",
          "data": {
            "image/png": "[encoded data removed]",
            "text/plain": [
              "<Figure size 432x288 with 1 Axes>"
            ]
          },
          "metadata": {
            "tags": [],
            "needs_background": "light"
          }
        }
      ]
    },
    {
      "cell_type": "code",
      "metadata": {
        "id": "lgf8iVltzuT9",
        "colab": {
          "base_uri": "https://localhost:8080/",
          "height": 810
        },
        "outputId": "02b28779-67fc-4a8a-95d1-e4f95dec8d71"
      },
      "source": [
        "# Look at Rating Change Based on Product Type\n",
        "print(np.unique(product_categories))\n",
        "health_indices = np.where(product_categories=='Health & Beauty')\n",
        "animal_indices = np.where(product_categories=='Animals & Pet Supplies')\n",
        "electronics_indices = np.where(product_categories=='Electronics')\n",
        "home_indices = np.where(product_categories=='Home & Garden')\n",
        "office_indices = np.where(product_categories=='Office Supplies')\n",
        "toy_indices = np.where(product_categories=='Toys & Games')\n",
        "\n",
        "health_changes = change[health_indices]\n",
        "animals_changes = change[animal_indices]\n",
        "electronic_changes = change[electronics_indices]\n",
        "home_changes = change[home_indices]\n",
        "office_changes = change[office_indices]\n",
        "toy_changes = change[toy_indices]\n",
        "\n",
        "print('Health Mean Change:', np.mean(health_changes)) # overall mean amout reviews were changed by\n",
        "print('Health Median Change:', np.median(health_changes))\n",
        "print('Health Standard Deviation of Change:', np.std(health_changes))\n",
        "print('')\n",
        "print('Animal Mean Change:', np.mean(animals_changes)) # overall mean amout reviews were changed by\n",
        "print('Animal Median Change:', np.median(animals_changes))\n",
        "print('Animal Standard Deviation of Change:', np.std(animals_changes))\n",
        "print('')\n",
        "print('Electronic Mean Change:', np.mean(electronic_changes)) # overall mean amout reviews were changed by\n",
        "print('Electronic Median Change:', np.median(electronic_changes))\n",
        "print('Electronic Standard Deviation of Change:', np.std(electronic_changes))\n",
        "print('')\n",
        "print('Home Mean Change:', np.mean(home_changes)) # overall mean amout reviews were changed by\n",
        "print('Home Median Change:', np.median(home_changes))\n",
        "print('Home Standard Deviation of Change:', np.std(home_changes))\n",
        "print('')\n",
        "print('Office Mean Change:', np.mean(office_changes)) # overall mean amout reviews were changed by\n",
        "print('Office Median Change:', np.median(office_changes))\n",
        "print('Office Standard Deviation of Change:', np.std(office_changes))\n",
        "print('')\n",
        "print('Toy Mean Change:', np.mean(toy_changes)) # overall mean amout reviews were changed by\n",
        "print('Toy Median Change:', np.median(toy_changes))\n",
        "print('Toy Standard Deviation of Change:', np.std(toy_changes))\n",
        "\n",
        "pet = np.mean(animals_changes)\n",
        "electronics= np.mean(electronic_changes)\n",
        "health = np.mean(health_changes)\n",
        "home = np.mean(home_changes)\n",
        "office = np.mean(office_changes)\n",
        "toys = np.mean(toy_changes)\n",
        "\n",
        "changed_arr = np.array([pet, electronics, health, home, office, toys])\n",
        "x = [\"Pet Supplies\", \"Electronics\", \"Health & Beauty\", \"Home & Garden\", \"Office Supplies\", \"Toys\"]\n",
        "# arr = np.array([np.count_nonzero(svm_ratings==5), np.count_nonzero(svm_ratings==4), np.count_nonzero(svm_ratings==3), np.count_nonzero(svm_ratings==2), np.count_nonzero(svm_ratings==1)])\n",
        "# title_lists = [\"5 Star\" , \"4 Star\", \"3 Star\", \"2 Star\", \"1 Star\"]\n",
        "# ax = plt.pie(changed_arr, labels = title_lists)\n",
        "\n",
        "plt.bar(x, changed_arr, color = \"skyblue\")\n",
        "\n",
        "plt.ylabel(\"Review Value Change\")\n",
        "plt.xlabel(\"Product Type\")\n",
        "plt.xticks(rotation = \"vertical\")\n",
        "plt.title(\"Rating Change Based on Product Type\")\n",
        "\n"
      ],
      "execution_count": 51,
      "outputs": [
        {
          "output_type": "stream",
          "text": [
            "['Animals & Pet Supplies' 'Electronics' 'Health & Beauty' 'Home & Garden'\n",
            " 'Office Supplies' 'Toys & Games']\n",
            "Health Mean Change: -0.7552812525888493\n",
            "Health Median Change: 0.0\n",
            "Health Standard Deviation of Change: 1.6402762693401296\n",
            "\n",
            "Animal Mean Change: -1.0\n",
            "Animal Median Change: -0.5\n",
            "Animal Standard Deviation of Change: 1.1547005383792515\n",
            "\n",
            "Electronic Mean Change: -0.6153574954167255\n",
            "Electronic Median Change: 0.0\n",
            "Electronic Standard Deviation of Change: 1.3589561250935822\n",
            "\n",
            "Home Mean Change: -3.0\n",
            "Home Median Change: -3.0\n",
            "Home Standard Deviation of Change: 0.0\n",
            "\n",
            "Office Mean Change: -0.49873417721518987\n",
            "Office Median Change: 0.0\n",
            "Office Standard Deviation of Change: 1.2992201819695464\n",
            "\n",
            "Toy Mean Change: -0.5996420047732697\n",
            "Toy Median Change: 0.0\n",
            "Toy Standard Deviation of Change: 1.3736264098524718\n"
          ],
          "name": "stdout"
        },
        {
          "output_type": "execute_result",
          "data": {
            "text/plain": [
              "Text(0.5, 1.0, 'Rating Change Based on Product Type')"
            ]
          },
          "metadata": {
            "tags": []
          },
          "execution_count": 51
        },
        {
          "output_type": "display_data",
          "data": {
            "image/png": "[encoded data removed]",
            "text/plain": [
              "<Figure size 432x288 with 1 Axes>"
            ]
          },
          "metadata": {
            "tags": [],
            "needs_background": "light"
          }
        }
      ]
    },
    {
      "cell_type": "code",
      "metadata": {
        "id": "iq0h3AhyzuT9",
        "colab": {
          "base_uri": "https://localhost:8080/"
        },
        "outputId": "b02c6c2f-17f8-4ee7-b386-8ff470626a86"
      },
      "source": [
        "# change likelihood given product category\n",
        "print('Interpreted as: Given Product Category was X, Probability it was Inc/Dec/Unc is ...')\n",
        "print('')\n",
        "print('Number of Increased Health Ratings:', len(np.where(health_changes>0)[0]), '=',(len(np.where(health_changes>0)[0])/len(health_changes))*100, '%')\n",
        "print('Number of Decreased Health Ratings:', len(np.where(health_changes<0)[0]), '=',(len(np.where(health_changes<0)[0])/len(health_changes))*100, '%')\n",
        "print('Number of Unchanged Health Ratings:', len(np.where(health_changes==0)[0]), '=',(len(np.where(health_changes==0)[0])/len(health_changes))*100, '%')\n",
        "print('')\n",
        "print('Number of Increased Animal Ratings:', len(np.where(animals_changes>0)[0]), '=',(len(np.where(animals_changes>0)[0])/len(animals_changes))*100, '%')\n",
        "print('Number of Decreased Animal Ratings:', len(np.where(animals_changes<0)[0]), '=',(len(np.where(animals_changes<0)[0])/len(animals_changes))*100, '%')\n",
        "print('Number of Unchanged Animal Ratings:', len(np.where(animals_changes==0)[0]), '=',(len(np.where(animals_changes==0)[0])/len(animals_changes))*100, '%')\n",
        "print('')\n",
        "print('Number of Increased Electronic Ratings:', len(np.where(electronic_changes>0)[0]), '=',(len(np.where(electronic_changes>0)[0])/len(electronic_changes))*100, '%')\n",
        "print('Number of Decreased Electronic Ratings:', len(np.where(electronic_changes<0)[0]), '=',(len(np.where(electronic_changes<0)[0])/len(electronic_changes))*100, '%')\n",
        "print('Number of Unchanged Electronic Ratings:', len(np.where(electronic_changes==0)[0]), '=',(len(np.where(electronic_changes==0)[0])/len(electronic_changes))*100, '%')\n",
        "print('')\n",
        "print('Number of Increased Home Ratings:', len(np.where(home_changes>0)[0]), '=',(len(np.where(home_changes>0)[0])/len(home_changes))*100, '%')\n",
        "print('Number of Decreased Home Ratings:', len(np.where(home_changes<0)[0]), '=',(len(np.where(home_changes<0)[0])/len(home_changes))*100, '%')\n",
        "print('Number of Unchanged Home Ratings:', len(np.where(home_changes==0)[0]), '=',(len(np.where(home_changes==0)[0])/len(home_changes))*100, '%')\n",
        "print('')\n",
        "print('Number of Increased Office Ratings:', len(np.where(office_changes>0)[0]), '=',(len(np.where(office_changes>0)[0])/len(office_changes))*100, '%')\n",
        "print('Number of Decreased Office Ratings:', len(np.where(office_changes<0)[0]), '=',(len(np.where(office_changes<0)[0])/len(office_changes))*100, '%')\n",
        "print('Number of Unchanged Office Ratings:', len(np.where(office_changes==0)[0]), '=',(len(np.where(office_changes==0)[0])/len(office_changes))*100, '%')\n",
        "print('')\n",
        "print('Number of Increased Toy Ratings:', len(np.where(toy_changes>0)[0]), '=',(len(np.where(toy_changes>0)[0])/len(toy_changes))*100, '%')\n",
        "print('Number of Decreased Toy Ratings:', len(np.where(toy_changes<0)[0]), '=',(len(np.where(toy_changes<0)[0])/len(toy_changes))*100, '%')\n",
        "print('Number of Unchanged Toy Ratings:', len(np.where(toy_changes==0)[0]), '=',(len(np.where(toy_changes==0)[0])/len(toy_changes))*100, '%')"
      ],
      "execution_count": 53,
      "outputs": [
        {
          "output_type": "stream",
          "text": [
            "Interpreted as: Given Product Category was X, Probability it was Inc/Dec/Unc is ...\n",
            "\n",
            "Number of Increased Health Ratings: 1554 = 12.873829840112666 %\n",
            "Number of Decreased Health Ratings: 4624 = 38.30668544445365 %\n",
            "Number of Unchanged Health Ratings: 5893 = 48.81948471543369 %\n",
            "\n",
            "Number of Increased Animal Ratings: 0 = 0.0 %\n",
            "Number of Decreased Animal Ratings: 3 = 50.0 %\n",
            "Number of Unchanged Animal Ratings: 3 = 50.0 %\n",
            "\n",
            "Number of Increased Electronic Ratings: 2276 = 16.048512198561557 %\n",
            "Number of Decreased Electronic Ratings: 5724 = 40.36102101255112 %\n",
            "Number of Unchanged Electronic Ratings: 6182 = 43.59046678888732 %\n",
            "\n",
            "Number of Increased Home Ratings: 0 = 0.0 %\n",
            "Number of Decreased Home Ratings: 2 = 100.0 %\n",
            "Number of Unchanged Home Ratings: 0 = 0.0 %\n",
            "\n",
            "Number of Increased Office Ratings: 71 = 17.974683544303797 %\n",
            "Number of Decreased Office Ratings: 154 = 38.9873417721519 %\n",
            "Number of Unchanged Office Ratings: 170 = 43.037974683544306 %\n",
            "\n",
            "Number of Increased Toy Ratings: 272 = 16.2291169451074 %\n",
            "Number of Decreased Toy Ratings: 670 = 39.97613365155131 %\n",
            "Number of Unchanged Toy Ratings: 734 = 43.794749403341285 %\n"
          ],
          "name": "stdout"
        }
      ]
    },
    {
      "cell_type": "code",
      "metadata": {
        "id": "FQ8NN51EzuT9"
      },
      "source": [
        "# Random Forest Rating Investigation"
      ],
      "execution_count": null,
      "outputs": []
    },
    {
      "cell_type": "code",
      "metadata": {
        "id": "zhr7npoczuT9"
      },
      "source": [
        "rf_ratings = genfromtxt(r'rf_new_ratings.csv', delimiter=',')"
      ],
      "execution_count": 55,
      "outputs": []
    },
    {
      "cell_type": "code",
      "metadata": {
        "id": "OGia0se1zuT9"
      },
      "source": [
        "# plt.hist(rf_ratings, bins=[0,1,2,3,4,5,6])\n",
        "# plt.title('Distribution of RF Ratings')\n",
        "# plt.xlabel('Rating')\n",
        "# plt.ylabel('Count')"
      ],
      "execution_count": 56,
      "outputs": []
    },
    {
      "cell_type": "code",
      "metadata": {
        "id": "uUsvCT5hzuT-",
        "colab": {
          "base_uri": "https://localhost:8080/",
          "height": 366
        },
        "outputId": "d4c33848-8ca4-4868-f5b9-1b769b79dc0b"
      },
      "source": [
        "print('5 Star Ratings:', np.count_nonzero(rf_ratings==5))\n",
        "print('4 Star Ratings:', np.count_nonzero(rf_ratings==4))\n",
        "print('3 Star Ratings:', np.count_nonzero(rf_ratings==3))\n",
        "print('2 Star Ratings:', np.count_nonzero(rf_ratings==2))\n",
        "print('1 Star Ratings:', np.count_nonzero(rf_ratings==1))\n",
        "\n",
        "arrrf = np.array([np.count_nonzero(rf_ratings==5), np.count_nonzero(rf_ratings==4), np.count_nonzero(rf_ratings==3), np.count_nonzero(rf_ratings==2), np.count_nonzero(rf_ratings==1)])\n",
        "title_listrf = [\"5 Star\", \"4 Star\", \"3 Star\", \"2 Star\", \"1 Star\"]\n",
        "plt.pie(arrrf, labels = title_listrf, shadow = True, labeldistance=None, autopct='%1.1f%%')\n",
        "plt.title(\"Percentage of Reviews by Rating - RF\")\n",
        "plt.legend()"
      ],
      "execution_count": 68,
      "outputs": [
        {
          "output_type": "stream",
          "text": [
            "5 Star Ratings: 11656\n",
            "4 Star Ratings: 2538\n",
            "3 Star Ratings: 5513\n",
            "2 Star Ratings: 2864\n",
            "1 Star Ratings: 5761\n"
          ],
          "name": "stdout"
        },
        {
          "output_type": "execute_result",
          "data": {
            "text/plain": [
              "<matplotlib.legend.Legend at 0x7fe1a76d1ac8>"
            ]
          },
          "metadata": {
            "tags": []
          },
          "execution_count": 68
        },
        {
          "output_type": "display_data",
          "data": {
            "image/png": "[encoded data removed]",
            "text/plain": [
              "<Figure size 432x288 with 1 Axes>"
            ]
          },
          "metadata": {
            "tags": []
          }
        }
      ]
    },
    {
      "cell_type": "code",
      "metadata": {
        "id": "jOGoIFLWzuT-",
        "colab": {
          "base_uri": "https://localhost:8080/"
        },
        "outputId": "4a3324f3-48cd-4fc5-a95c-ac95b1b6577f"
      },
      "source": [
        "# change metrics for all ratings\n",
        "change1 = rf_ratings - original_ratings # gives array of amount each rating changed by\n",
        "print('Mean Change:', np.mean(change1)) # overall mean amout reviews were changed by\n",
        "print('Median Change:', np.median(change1))\n",
        "print('Standard Deviation of Change:', np.std(change1))"
      ],
      "execution_count": 58,
      "outputs": [
        {
          "output_type": "stream",
          "text": [
            "Mean Change: -1.109416913737117\n",
            "Median Change: -1.0\n",
            "Standard Deviation of Change: 1.6173430859314597\n"
          ],
          "name": "stdout"
        }
      ]
    },
    {
      "cell_type": "code",
      "metadata": {
        "id": "Mi3sr1FhzuT-"
      },
      "source": [
        "# change metrics for each rating class (1-5)\n",
        "original_five_ratings = original_ratings[np.where(original_ratings==5)]\n",
        "rf_five_ratings = rf_ratings[np.where(original_ratings==5)]\n",
        "change_five_ratings1 = rf_five_ratings - original_five_ratings\n",
        "\n",
        "original_four_ratings = original_ratings[np.where(original_ratings==4)]\n",
        "rf_four_ratings = rf_ratings[np.where(original_ratings==4)]\n",
        "change_four_ratings1 = rf_four_ratings - original_four_ratings\n",
        "\n",
        "original_three_ratings = original_ratings[np.where(original_ratings==3)]\n",
        "rf_three_ratings = rf_ratings[np.where(original_ratings==3)]\n",
        "change_three_ratings1 = rf_three_ratings - original_three_ratings\n",
        "\n",
        "original_two_ratings = original_ratings[np.where(original_ratings==2)]\n",
        "rf_two_ratings = rf_ratings[np.where(original_ratings==2)]\n",
        "change_two_ratings1 = rf_two_ratings - original_two_ratings\n",
        "\n",
        "original_one_ratings = original_ratings[np.where(original_ratings==1)]\n",
        "rf_one_ratings = rf_ratings[np.where(original_ratings==1)]\n",
        "change_one_ratings1 = rf_one_ratings - original_one_ratings"
      ],
      "execution_count": 59,
      "outputs": []
    },
    {
      "cell_type": "code",
      "metadata": {
        "id": "CPAItMWtzuT-",
        "colab": {
          "base_uri": "https://localhost:8080/"
        },
        "outputId": "589a948b-3dd8-47fd-c75b-7ef379d337bd"
      },
      "source": [
        "# find stats for each rating class\n",
        "print('5 Mean Change:', np.mean(change_five_ratings1))\n",
        "print('5 Median Change:', np.median(change_five_ratings1))\n",
        "print('5 Standard Deviation of Change:', np.std(change_five_ratings1))\n",
        "print('')\n",
        "print('4 Mean Change:', np.mean(change_four_ratings1))\n",
        "print('4 Median Change:', np.median(change_four_ratings1))\n",
        "print('4 Standard Deviation of Change:', np.std(change_four_ratings1))\n",
        "print('')\n",
        "print('3 Mean Change:', np.mean(change_three_ratings1))\n",
        "print('3 Median Change:', np.median(change_three_ratings1))\n",
        "print('3 Standard Deviation of Change:', np.std(change_three_ratings1))\n",
        "print('')\n",
        "print('2 Mean Change:', np.mean(change_two_ratings1))\n",
        "print('2 Median Change:', np.median(change_two_ratings1))\n",
        "print('2 Standard Deviation of Change:', np.std(change_two_ratings1))\n",
        "print('')\n",
        "print('1 Mean Change:', np.mean(change_one_ratings1))\n",
        "print('1 Median Change:', np.median(change_one_ratings1))\n",
        "print('1 Standard Deviation of Change:', np.std(change_one_ratings1))"
      ],
      "execution_count": 60,
      "outputs": [
        {
          "output_type": "stream",
          "text": [
            "5 Mean Change: -1.421721867618234\n",
            "5 Median Change: -1.0\n",
            "5 Standard Deviation of Change: 1.5248578050980615\n",
            "\n",
            "4 Mean Change: -0.6545679886685553\n",
            "4 Median Change: -1.0\n",
            "4 Standard Deviation of Change: 1.5580744491209664\n",
            "\n",
            "3 Mean Change: -0.2728026533996683\n",
            "3 Median Change: -1.0\n",
            "3 Standard Deviation of Change: 1.6035946164963193\n",
            "\n",
            "2 Mean Change: 0.3652597402597403\n",
            "2 Median Change: 0.0\n",
            "2 Standard Deviation of Change: 1.5133692942724477\n",
            "\n",
            "1 Mean Change: 0.6808290155440414\n",
            "1 Median Change: 0.0\n",
            "1 Standard Deviation of Change: 1.132513064485632\n"
          ],
          "name": "stdout"
        }
      ]
    },
    {
      "cell_type": "code",
      "metadata": {
        "id": "akjOLWyHzuT-",
        "colab": {
          "base_uri": "https://localhost:8080/",
          "height": 635
        },
        "outputId": "19390341-487f-469a-8109-f3db493702a0"
      },
      "source": [
        "# find ratio of up to down for each rating class\n",
        "print('Interpreted as: Given Rating was X, Probability it was Inc/Dec/Unc is ...')\n",
        "print('')\n",
        "print('Number of Decreased 5 Star Ratings:', len(np.where(change_five_ratings1<0)[0]), '=', (len(np.where(change_five_ratings1<0)[0])/len(change_five_ratings1))*100, '%')\n",
        "print('Number of Unchanged 5 Star Ratings:', len(np.where(change_five_ratings1==0)[0]), '=',(len(np.where(change_five_ratings1==0)[0])/len(change_five_ratings1))*100, '%')# no > 0 class here as 5 ratings cant go up\n",
        "print('')\n",
        "print('Number of Increased 4 Star Ratings:', len(np.where(change_four_ratings1>0)[0]), '=',(len(np.where(change_four_ratings1>0)[0])/len(change_four_ratings1))*100, '%')\n",
        "print('Number of Decreased 4 Star Ratings:', len(np.where(change_four_ratings1<0)[0]), '=',(len(np.where(change_four_ratings1<0)[0])/len(change_four_ratings1))*100, '%')\n",
        "print('Number of Unchanged 4 Star Ratings:', len(np.where(change_four_ratings1==0)[0]), '=',(len(np.where(change_four_ratings1==0)[0])/len(change_four_ratings1))*100, '%')\n",
        "print('')\n",
        "print('Number of Increased 3 Star Ratings:', len(np.where(change_three_ratings1>0)[0]), '=',(len(np.where(change_three_ratings1>0)[0])/len(change_three_ratings1))*100, '%')\n",
        "print('Number of Decreased 3 Star Ratings:', len(np.where(change_three_ratings1<0)[0]), '=',(len(np.where(change_three_ratings1<0)[0])/len(change_three_ratings1))*100, '%')\n",
        "print('Number of Unchanged 3 Star Ratings:', len(np.where(change_three_ratings1==0)[0]), '=',(len(np.where(change_three_ratings1==0)[0])/len(change_three_ratings1))*100, '%')\n",
        "print('')\n",
        "print('Number of Increased 2 Star Ratings:', len(np.where(change_two_ratings1>0)[0]), '=',(len(np.where(change_two_ratings1>0)[0])/len(change_two_ratings1))*100, '%')\n",
        "print('Number of Decreased 2 Star Ratings:', len(np.where(change_two_ratings1<0)[0]), '=',(len(np.where(change_two_ratings1<0)[0])/len(change_two_ratings1))*100, '%')\n",
        "print('Number of Unchanged 2 Star Ratings:', len(np.where(change_two_ratings1==0)[0]), '=',(len(np.where(change_two_ratings1==0)[0])/len(change_two_ratings1))*100, '%')\n",
        "print('')\n",
        "print('Number of Increased 1 Star Ratings:', len(np.where(change_one_ratings1>0)[0]),'=', (len(np.where(change_one_ratings1>0)[0])/len(change_one_ratings1))*100, '%')\n",
        "print('Number of Unchanged 1 Star Ratings:', len(np.where(change_one_ratings1==0)[0]),'=', (len(np.where(change_one_ratings1==0)[0])/len(change_one_ratings1))*100, '%')\n",
        "\n",
        "fiveStar1 = (len(np.where(change_five_ratings1<0)[0])/len(change_five_ratings1))*100\n",
        "fourStar1 = ((len(np.where(change_four_ratings1>0)[0])/len(change_four_ratings1))*100) + (len(np.where(change_four_ratings1<0)[0])/len(change_four_ratings1))*100\n",
        "threeStar1 = (len(np.where(change_three_ratings1>0)[0])/len(change_three_ratings1))*100 + (len(np.where(change_three_ratings1<0)[0])/len(change_three_ratings1))*100\n",
        "twoStar1 = (len(np.where(change_two_ratings1>0)[0])/len(change_two_ratings1))*100 + (len(np.where(change_two_ratings1<0)[0])/len(change_two_ratings1))*100\n",
        "oneStar1 = (len(np.where(change_one_ratings1>0)[0])/len(change_one_ratings1))*100\n",
        "\n",
        "changed_arr1 = np.array([fiveStar1, fourStar1, threeStar1, twoStar1, oneStar1])\n",
        "x1 = [ 1, 2, 3, 4, 5]\n",
        "# arr = np.array([np.count_nonzero(svm_ratings==5), np.count_nonzero(svm_ratings==4), np.count_nonzero(svm_ratings==3), np.count_nonzero(svm_ratings==2), np.count_nonzero(svm_ratings==1)])\n",
        "# title_lists = [\"5 Star\" , \"4 Star\", \"3 Star\", \"2 Star\", \"1 Star\"]\n",
        "# ax = plt.pie(changed_arr, labels = title_lists)\n",
        "\n",
        "# plt.title(\"Percentage of Changes for each Rating\")\n",
        "plt.bar(x1, changed_arr1, color = \"purple\")\n",
        "plt.title(\"Percentage of Reviews that Changed per Rating - RF\")\n",
        "plt.ylabel(\"Percentage of Review Changes\")\n",
        "plt.xlabel(\"Original Review Rating\")\n",
        "\n",
        "\n"
      ],
      "execution_count": 69,
      "outputs": [
        {
          "output_type": "stream",
          "text": [
            "Interpreted as: Given Rating was X, Probability it was Inc/Dec/Unc is ...\n",
            "\n",
            "Number of Decreased 5 Star Ratings: 10870 = 54.6313514600191 %\n",
            "Number of Unchanged 5 Star Ratings: 9027 = 45.368648539980896 %\n",
            "\n",
            "Number of Increased 4 Star Ratings: 2145 = 37.978045325779036 %\n",
            "Number of Decreased 4 Star Ratings: 2928 = 51.84135977337111 %\n",
            "Number of Unchanged 4 Star Ratings: 575 = 10.180594900849858 %\n",
            "\n",
            "Number of Increased 3 Star Ratings: 388 = 32.172470978441126 %\n",
            "Number of Decreased 3 Star Ratings: 607 = 50.33167495854063 %\n",
            "Number of Unchanged 3 Star Ratings: 211 = 17.495854063018243 %\n",
            "\n",
            "Number of Increased 2 Star Ratings: 228 = 37.01298701298701 %\n",
            "Number of Decreased 2 Star Ratings: 262 = 42.532467532467535 %\n",
            "Number of Unchanged 2 Star Ratings: 126 = 20.454545454545457 %\n",
            "\n",
            "Number of Increased 1 Star Ratings: 338 = 35.02590673575129 %\n",
            "Number of Unchanged 1 Star Ratings: 627 = 64.9740932642487 %\n"
          ],
          "name": "stdout"
        },
        {
          "output_type": "execute_result",
          "data": {
            "text/plain": [
              "Text(0.5, 0, 'Original Review Rating')"
            ]
          },
          "metadata": {
            "tags": []
          },
          "execution_count": 69
        },
        {
          "output_type": "display_data",
          "data": {
            "image/png": "[encoded data removed]",
            "text/plain": [
              "<Figure size 432x288 with 1 Axes>"
            ]
          },
          "metadata": {
            "tags": [],
            "needs_background": "light"
          }
        }
      ]
    },
    {
      "cell_type": "code",
      "metadata": {
        "id": "jjkxRVdNzuT-",
        "colab": {
          "base_uri": "https://localhost:8080/",
          "height": 810
        },
        "outputId": "64121ec6-b637-4b39-9d18-ec851fd123e5"
      },
      "source": [
        "# Look at Rating Change Based on Product Type\n",
        "print(np.unique(product_categories))\n",
        "health_indices = np.where(product_categories=='Health & Beauty')\n",
        "animal_indices = np.where(product_categories=='Animals & Pet Supplies')\n",
        "electronics_indices = np.where(product_categories=='Electronics')\n",
        "home_indices = np.where(product_categories=='Home & Garden')\n",
        "office_indices = np.where(product_categories=='Office Supplies')\n",
        "toy_indices = np.where(product_categories=='Toys & Games')\n",
        "\n",
        "health_changes1 = change1[health_indices]\n",
        "animals_changes1 = change1[animal_indices]\n",
        "electronic_changes1 = change1[electronics_indices]\n",
        "home_changes1 = change1[home_indices]\n",
        "office_changes1 = change1[office_indices]\n",
        "toy_changes1 = change1[toy_indices]\n",
        "\n",
        "print('Health Mean Change:', np.mean(health_changes1)) # overall mean amout reviews were changed by\n",
        "print('Health Median Change:', np.median(health_changes1))\n",
        "print('Health Standard Deviation of Change:', np.std(health_changes1))\n",
        "print('')\n",
        "print('Animal Mean Change:', np.mean(animals_changes1)) # overall mean amout reviews were changed by\n",
        "print('Animal Median Change:', np.median(animals_changes1))\n",
        "print('Animal Standard Deviation of Change:', np.std(animals_changes1))\n",
        "print('')\n",
        "print('Electronic Mean Change:', np.mean(electronic_changes1)) # overall mean amout reviews were changed by\n",
        "print('Electronic Median Change:', np.median(electronic_changes1))\n",
        "print('Electronic Standard Deviation of Change:', np.std(electronic_changes1))\n",
        "print('')\n",
        "print('Home Mean Change:', np.mean(home_changes1)) # overall mean amout reviews were changed by\n",
        "print('Home Median Change:', np.median(home_changes1))\n",
        "print('Home Standard Deviation of Change:', np.std(home_changes1))\n",
        "print('')\n",
        "print('Office Mean Change:', np.mean(office_changes1)) # overall mean amout reviews were changed by\n",
        "print('Office Median Change:', np.median(office_changes1))\n",
        "print('Office Standard Deviation of Change:', np.std(office_changes1))\n",
        "print('')\n",
        "print('Toy Mean Change:', np.mean(toy_changes1)) # overall mean amout reviews were changed by\n",
        "print('Toy Median Change:', np.median(toy_changes1))\n",
        "print('Toy Standard Deviation of Change:', np.std(toy_changes1))\n",
        "\n",
        "\n",
        "pet1 = np.mean(animals_changes1)\n",
        "electronics1= np.mean(electronic_changes1)\n",
        "health1 = np.mean(health_changes1)\n",
        "home1 = np.mean(home_changes1)\n",
        "office1 = np.mean(office_changes1)\n",
        "toys1 = np.mean(toy_changes1)\n",
        "\n",
        "changed_arr2 = np.array([pet1, electronics1, health1, home1, office1, toys1])\n",
        "x2 = [\"Pet Supplies\", \"Electronics\", \"Health & Beauty\", \"Home & Garden\", \"Office Supplies\", \"Toys\"]\n",
        "\n",
        "plt.bar(x2, changed_arr2, color = \"purple\")\n",
        "\n",
        "plt.ylabel(\"Review Value Change\")\n",
        "plt.xlabel(\"Product Type\")\n",
        "plt.xticks(rotation = \"vertical\")\n",
        "plt.title(\"Rating Change Based on Product Type - RF\")"
      ],
      "execution_count": 70,
      "outputs": [
        {
          "output_type": "stream",
          "text": [
            "['Animals & Pet Supplies' 'Electronics' 'Health & Beauty' 'Home & Garden'\n",
            " 'Office Supplies' 'Toys & Games']\n",
            "Health Mean Change: -0.9560102725540551\n",
            "Health Median Change: 0.0\n",
            "Health Standard Deviation of Change: 1.6801590477910402\n",
            "\n",
            "Animal Mean Change: -0.8333333333333334\n",
            "Animal Median Change: -0.5\n",
            "Animal Standard Deviation of Change: 1.3437096247164249\n",
            "\n",
            "Electronic Mean Change: -1.2142857142857142\n",
            "Electronic Median Change: -1.0\n",
            "Electronic Standard Deviation of Change: 1.554985379801993\n",
            "\n",
            "Home Mean Change: -3.0\n",
            "Home Median Change: -3.0\n",
            "Home Standard Deviation of Change: 0.0\n",
            "\n",
            "Office Mean Change: -1.139240506329114\n",
            "Office Median Change: -1.0\n",
            "Office Standard Deviation of Change: 1.4801144089818508\n",
            "\n",
            "Toy Mean Change: -1.3186157517899761\n",
            "Toy Median Change: -1.0\n",
            "Toy Standard Deviation of Change: 1.6102778463880418\n"
          ],
          "name": "stdout"
        },
        {
          "output_type": "execute_result",
          "data": {
            "text/plain": [
              "Text(0.5, 1.0, 'Rating Change Based on Product Type - RF')"
            ]
          },
          "metadata": {
            "tags": []
          },
          "execution_count": 70
        },
        {
          "output_type": "display_data",
          "data": {
            "image/png": "[encoded data removed]",
            "text/plain": [
              "<Figure size 432x288 with 1 Axes>"
            ]
          },
          "metadata": {
            "tags": [],
            "needs_background": "light"
          }
        }
      ]
    },
    {
      "cell_type": "code",
      "metadata": {
        "id": "GqL9HyQwzuT-",
        "outputId": "09c7a2d3-f8b9-4fa4-9b70-049721d3bbc0"
      },
      "source": [
        "# change likelihood given product category\n",
        "print('Interpreted as: Given Product Category was X, Probability it was Inc/Dec/Unc is ...')\n",
        "print('')\n",
        "print('Number of Increased Health Ratings:', len(np.where(health_changes1>0)[0]), '=',(len(np.where(health_changes1>0)[0])/len(health_changes1))*100, '%')\n",
        "print('Number of Decreased Health Ratings:', len(np.where(health_changes1<0)[0]), '=',(len(np.where(health_changes1<0)[0])/len(health_changes1))*100, '%')\n",
        "print('Number of Unchanged Health Ratings:', len(np.where(health_changes1==0)[0]), '=',(len(np.where(health_changes1==0)[0])/len(health_changes1))*100, '%')\n",
        "print('')\n",
        "print('Number of Increased Animal Ratings:', len(np.where(animals_changes1>0)[0]), '=',(len(np.where(animals_changes1>0)[0])/len(animals_changes1))*100, '%')\n",
        "print('Number of Decreased Animal Ratings:', len(np.where(animals_changes1<0)[0]), '=',(len(np.where(animals_changes1<0)[0])/len(animals_changes1))*100, '%')\n",
        "print('Number of Unchanged Animal Ratings:', len(np.where(animals_changes1==0)[0]), '=',(len(np.where(animals_changes1==0)[0])/len(animals_changes1))*100, '%')\n",
        "print('')\n",
        "print('Number of Increased Electronic Ratings:', len(np.where(electronic_changes1>0)[0]), '=',(len(np.where(electronic_changes1>0)[0])/len(electronic_changes1))*100, '%')\n",
        "print('Number of Decreased Electronic Ratings:', len(np.where(electronic_changes1<0)[0]), '=',(len(np.where(electronic_changes1<0)[0])/len(electronic_changes1))*100, '%')\n",
        "print('Number of Unchanged Electronic Ratings:', len(np.where(electronic_changes1==0)[0]), '=',(len(np.where(electronic_changes1==0)[0])/len(electronic_changes1))*100, '%')\n",
        "print('')\n",
        "print('Number of Increased Home Ratings:', len(np.where(home_changes1>0)[0]), '=',(len(np.where(home_changes1>0)[0])/len(home_changes1))*100, '%')\n",
        "print('Number of Decreased Home Ratings:', len(np.where(home_changes1<0)[0]), '=',(len(np.where(home_changes1<0)[0])/len(home_changes1))*100, '%')\n",
        "print('Number of Unchanged Home Ratings:', len(np.where(home_changes1==0)[0]), '=',(len(np.where(home_changes1==0)[0])/len(home_changes1))*100, '%')\n",
        "print('')\n",
        "print('Number of Increased Office Ratings:', len(np.where(office_changes1>0)[0]), '=',(len(np.where(office_changes1>0)[0])/len(office_changes1))*100, '%')\n",
        "print('Number of Decreased Office Ratings:', len(np.where(office_changes1<0)[0]), '=',(len(np.where(office_changes1<0)[0])/len(office_changes1))*100, '%')\n",
        "print('Number of Unchanged Office Ratings:', len(np.where(office_changes1==0)[0]), '=',(len(np.where(office_changes1==0)[0])/len(office_changes1))*100, '%')\n",
        "print('')\n",
        "print('Number of Increased Toy Ratings:', len(np.where(toy_changes1>0)[0]), '=',(len(np.where(toy_changes1>0)[0])/len(toy_changes1))*100, '%')\n",
        "print('Number of Decreased Toy Ratings:', len(np.where(toy_changes1<0)[0]), '=',(len(np.where(toy_changes1<0)[0])/len(toy_changes1))*100, '%')\n",
        "print('Number of Unchanged Toy Ratings:', len(np.where(toy_changes1==0)[0]), '=',(len(np.where(toy_changes1==0)[0])/len(toy_changes1))*100, '%')"
      ],
      "execution_count": null,
      "outputs": [
        {
          "output_type": "stream",
          "text": [
            "Interpreted as: Given Product Category was X, Probability it was Inc/Dec/Unc is ...\n",
            "\n",
            "Number of Increased Health Ratings: 1303 = 10.794466075718665 %\n",
            "Number of Decreased Health Ratings: 5167 = 42.805070002485294 %\n",
            "Number of Unchanged Health Ratings: 5601 = 46.400463921796046 %\n",
            "\n",
            "Number of Increased Animal Ratings: 1 = 16.666666666666664 %\n",
            "Number of Decreased Animal Ratings: 3 = 50.0 %\n",
            "Number of Unchanged Animal Ratings: 2 = 33.33333333333333 %\n",
            "\n",
            "Number of Increased Electronic Ratings: 1583 = 11.162036384148921 %\n",
            "Number of Decreased Electronic Ratings: 8264 = 58.2710478070794 %\n",
            "Number of Unchanged Electronic Ratings: 4335 = 30.566915808771682 %\n",
            "\n",
            "Number of Increased Home Ratings: 0 = 0.0 %\n",
            "Number of Decreased Home Ratings: 2 = 100.0 %\n",
            "Number of Unchanged Home Ratings: 0 = 0.0 %\n",
            "\n",
            "Number of Increased Office Ratings: 41 = 10.379746835443038 %\n",
            "Number of Decreased Office Ratings: 228 = 57.72151898734177 %\n",
            "Number of Unchanged Office Ratings: 126 = 31.89873417721519 %\n",
            "\n",
            "Number of Increased Toy Ratings: 171 = 10.202863961813842 %\n",
            "Number of Decreased Toy Ratings: 1003 = 59.84486873508354 %\n",
            "Number of Unchanged Toy Ratings: 502 = 29.952267303102627 %\n"
          ],
          "name": "stdout"
        }
      ]
    },
    {
      "cell_type": "code",
      "metadata": {
        "id": "PdFwyILOzuT-"
      },
      "source": [
        ""
      ],
      "execution_count": null,
      "outputs": []
    }
  ]
}